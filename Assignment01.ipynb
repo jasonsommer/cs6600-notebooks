{
 "cells": [
  {
   "cell_type": "markdown",
   "metadata": {},
   "source": [
    "# Assignment 1, CS 6600\n"
   ]
  },
  {
   "cell_type": "markdown",
   "metadata": {},
   "source": []
  }
 ],
 "metadata": {
  "kernelspec": {
   "display_name": "Python 3.10.4 ('ml')",
   "language": "python",
   "name": "python3"
  },
  "language_info": {
   "name": "python",
   "version": "3.10.4"
  },
  "orig_nbformat": 4,
  "vscode": {
   "interpreter": {
    "hash": "e277e358f5de95c63d085be8a59273806cbe038eab0f4a9f83af798fce1d98c6"
   }
  }
 },
 "nbformat": 4,
 "nbformat_minor": 2
}
