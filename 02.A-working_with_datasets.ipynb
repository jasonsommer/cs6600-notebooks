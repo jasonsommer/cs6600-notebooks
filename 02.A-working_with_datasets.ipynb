{
 "cells": [
  {
   "cell_type": "markdown",
   "metadata": {},
   "source": [
    "# 02.A: Working with Datasets\n",
    "\n",
    "It's important to have a clear and sensible way of representing the datasets that learning algorithms train on. A dataset consists of $n$ examples. Each example consists of $m$ features. This makes $m$ the number dimensions the dataset has. In supervised learning, the dataset is a matrix like this:\n",
    "\n",
    "$\\boldsymbol{D} =\\left[\\begin{array}{cccccc} \n",
    "  x_1^{(1)} & x_2^{(1)} & x_3^{(1)} & \\cdots & x_m^{(1)} & y^{(1)}\\\\ \n",
    "  x_1^{(2)} & x_2^{(2)} & x_3^{(2)} & \\cdots & x_m^{(2)} & y^{(2)}\\\\\n",
    "  x_1^{(3)} & x_2^{(3)} & x_3^{(3)} & \\cdots & x_m^{(3)} & y^{(3)}\\\\\n",
    "  \\vdots    & \\vdots    & \\vdots    & \\cdots & \\vdots & \\vdots \\\\\n",
    "  x_1^{(n)} & x_2^{(n)} & x_3^{(n)} & \\cdots & x_m^{(n)} & y^{(n)}\n",
    "\\end{array}\\right]$\n",
    "\n",
    "Each row of this matrix is an example consisting of the $m$ features plus the target label as the last element in the row. In other words, $\\boldsymbol{D}$ consists of both the input matrix $\\boldsymbol{X}$ and target vector $y$, where: \n",
    "\n",
    "$\\boldsymbol{X} =\\left[\\begin{array}{ccccc} \n",
    "  x_1^{(1)} & x_2^{(1)} & x_3^{(1)} & \\cdots & x_m^{(1)}\\\\ \n",
    "  x_1^{(2)} & x_2^{(2)} & x_3^{(2)} & \\cdots & x_m^{(2)}\\\\\n",
    "  x_1^{(3)} & x_2^{(3)} & x_3^{(3)} & \\cdots & x_m^{(3)}\\\\\n",
    "  \\vdots    & \\vdots    & \\vdots    & \\cdots & \\vdots \\\\\n",
    "  x_1^{(n)} & x_2^{(n)} & x_3^{(n)} & \\cdots & x_m^{(n)}\n",
    "\\end{array}\\right]$\n",
    "\n",
    "and\n",
    "\n",
    "$\\boldsymbol{y} =\\left[\\begin{array}{c} \n",
    "  y^{(1)}\\\\ \n",
    "  y^{(2)}\\\\\n",
    "  y^{(3)}\\\\\n",
    "  \\vdots \\\\\n",
    "  y^{(n)}\n",
    "\\end{array}\\right]$\n",
    "\n",
    "For unsupervised learning, $\\boldsymbol{D}$ is the same as $\\boldsymbol{X}$. Here is a class named `DataSet` to represent datasets. It uses pandas' DataFrame.\n",
    "\n",
    "Another name for $X$ is `inputs`, and another name for $y$ is `target`. In addition, features have names. Let's put all of this together in a class that we will be using in subsequent weeks."
   ]
  },
  {
   "cell_type": "code",
   "execution_count": 1,
   "metadata": {},
   "outputs": [],
   "source": [
    "import numpy as np\n",
    "import pandas as pd\n",
    "\n",
    "#testing this repository\n",
    "\n",
    "class DataSet:\n",
    "    \"\"\"\n",
    "    A dataset for a machine learning problem. A dataset d has the following properties:\n",
    "    d.examples   A list of examples. Each one contains both the features and the target.\n",
    "    d.features   An array of the of feature names.\n",
    "    d.target     An m by 1 array containing the values of y\n",
    "    d.y          Same as d.target\n",
    "    d.inputs     An n by m array containing the values of X\n",
    "    d.X          Same as d.inputs\n",
    "    d.N          Number of examples\n",
    "    d.M          Number of dimensions\n",
    "    d.name       The name of the data set (for output display only)\n",
    "    \n",
    "    \"\"\"\n",
    "    def __init__(self, data, features=None, y=None, name=None):\n",
    "        \"\"\"\n",
    "        If y is True, the data contains the target as the last column\n",
    "        If y is None or False, No target is available\n",
    "        Else y is an array to be added as the last column of the examples  dataframe\n",
    "        \"\"\"\n",
    "        self.__name = name\n",
    "        if isinstance(data, pd.DataFrame):\n",
    "            self.__examples = data\n",
    "        else:\n",
    "            self.__examples = pd.DataFrame(data, columns=features)\n",
    "            \n",
    "        if y is True:\n",
    "            self.__examples.columns = [*self.__examples.columns[:-1], 'y']\n",
    "        elif y is not False and y is not None:\n",
    "            self.__examples['y'] = y\n",
    "    \n",
    "    @property\n",
    "    def examples(self):\n",
    "        return self.__examples\n",
    "    \n",
    "    @property\n",
    "    def features(self):\n",
    "        return self.__examples.columns[:-1].values\n",
    "    \n",
    "    @property\n",
    "    def target(self):\n",
    "        if 'y' in self.__examples.columns:\n",
    "            return self.__examples['y'].values.reshape(self.N, 1)\n",
    "        return None\n",
    "    \n",
    "    @property\n",
    "    def y(self):\n",
    "        return self.target\n",
    "    \n",
    "    @property\n",
    "    def inputs(self):\n",
    "        return self.__examples.iloc[:, :-1].values\n",
    "    \n",
    "    @property\n",
    "    def X(self):\n",
    "        return self.inputs\n",
    "    \n",
    "    @property\n",
    "    def name(self):\n",
    "        return self.__name\n",
    "    \n",
    "    @property\n",
    "    def N(self):\n",
    "        return self.__examples.shape[0]\n",
    "    \n",
    "    @property\n",
    "    def M(self):\n",
    "        return self.inputs.shape[1]\n",
    "    \n",
    "    def shuffled(self, random_state=None):\n",
    "        rgen = np.random.RandomState(random_state)\n",
    "        indexes = np.arange(self.N)\n",
    "        rgen.shuffle(indexes)\n",
    "        return DataSet(self.__examples.iloc[indexes])\n",
    "    \n",
    "    def train_test_split(self, start=0, end=None, test_portion=None, shuffle=False, random_state=None):\n",
    "        \"\"\"\n",
    "        Splits the dataset into a training set and atest set. \n",
    "        If test_portion is specified, return that portion of the dataset as test \n",
    "        and the rest as training. \n",
    "        Otherwise, return the examples between start and end as test and the \n",
    "        rest as training.\n",
    "        \"\"\"\n",
    "        indexes = np.arange(self.N)\n",
    "        if shuffle is True:\n",
    "            rgen = np.random.RandomState(random_state)\n",
    "            rgen.shuffle(indexes)\n",
    "\n",
    "        if test_portion is None:\n",
    "            end = end or self.N\n",
    "        else:\n",
    "            if not isinstance(test_portion, float) or test_portion < 0 or test_portion > 1:\n",
    "                raise TypeError(\"Only fractions between ]0,1[ are allowed\")\n",
    "\n",
    "            start = self.N - int(self.N * test_portion)\n",
    "            end = self.N\n",
    "\n",
    "        test = DataSet(self.examples.iloc[indexes[range(start, end)]])\n",
    "        train = DataSet(pd.concat([self.examples.iloc[indexes[range(start)]], \n",
    "                                      self.examples.iloc[indexes[range(end, self.N)]]], axis=0))    \n",
    "        return train, test\n",
    "    \n",
    "    def __repr__(self):\n",
    "        return repr(self.examples)"
   ]
  },
  {
   "cell_type": "markdown",
   "metadata": {},
   "source": [
    "This class has a couple of properties including `name` (informational), `features` (the names of the features), `inputs`, `target`, `X`, `y`, `N` (number of examples), `M` (number of dimensions).\n",
    "\n",
    "A DataSet object is created using a NumPy array or a Pandas dataframe. If it is a NumPy array, the class uses it to create a Pandas dataframe. The dataframe storing the data can be retrieved back using the `examples` property.\n",
    "\n",
    "\n",
    "Let's test this class by creating a $27 \\times 3$ input data and a separate $y$ column."
   ]
  },
  {
   "cell_type": "code",
   "execution_count": 2,
   "metadata": {
    "scrolled": false
   },
   "outputs": [
    {
     "data": {
      "text/plain": [
       "     x1   x2         x1  y\n",
       "0   8.0  7.0   8.297619  0\n",
       "1   3.0  5.0   7.937979  0\n",
       "2   6.0  7.0  10.038736  0\n",
       "3   7.0  6.0  12.183313  0\n",
       "4   6.0  5.0   9.677187  1\n",
       "5   7.0  5.0  13.299628  0\n",
       "6   3.0  5.0   6.916411  0\n",
       "7   5.0  2.0   8.316049  1\n",
       "8   5.0  8.0   8.174413  0\n",
       "9   2.0  6.0   8.533317  1\n",
       "10  5.0  2.0   7.633054  0\n",
       "11  5.0  2.0  13.573022  1\n",
       "12  3.0  7.0   9.765295  1\n",
       "13  4.0  6.0  10.032035  0\n",
       "14  3.0  4.0  11.214626  1\n",
       "15  8.0  5.0   8.220673  1\n",
       "16  6.0  1.0   8.677240  0\n",
       "17  7.0  7.0  13.794173  1\n",
       "18  2.0  3.0  12.115598  1\n",
       "19  5.0  8.0   6.226230  1\n",
       "20  4.0  4.0   8.891929  0\n",
       "21  2.0  5.0   5.018717  0\n",
       "22  3.0  6.0  12.738946  0\n",
       "23  4.0  1.0   9.694300  0\n",
       "24  2.0  3.0   8.991872  0\n",
       "25  8.0  4.0  11.070437  1\n",
       "26  5.0  4.0  10.459243  1"
      ]
     },
     "execution_count": 2,
     "metadata": {},
     "output_type": "execute_result"
    }
   ],
   "source": [
    "ds = DataSet(np.array([\n",
    "    np.random.randint(2,9, 27),\n",
    "    np.random.randint(1,9, 27),\n",
    "    np.random.normal(loc=10, scale=2, size=27)\n",
    "]).T, features=['x1', 'x2', 'x1'], y=np.random.randint(0,2, 27), name=\"Sample Data\")\n",
    "\n",
    "ds"
   ]
  },
  {
   "cell_type": "code",
   "execution_count": 3,
   "metadata": {},
   "outputs": [
    {
     "data": {
      "text/html": [
       "<div>\n",
       "<style scoped>\n",
       "    .dataframe tbody tr th:only-of-type {\n",
       "        vertical-align: middle;\n",
       "    }\n",
       "\n",
       "    .dataframe tbody tr th {\n",
       "        vertical-align: top;\n",
       "    }\n",
       "\n",
       "    .dataframe thead th {\n",
       "        text-align: right;\n",
       "    }\n",
       "</style>\n",
       "<table border=\"1\" class=\"dataframe\">\n",
       "  <thead>\n",
       "    <tr style=\"text-align: right;\">\n",
       "      <th></th>\n",
       "      <th>x1</th>\n",
       "      <th>x2</th>\n",
       "      <th>x1</th>\n",
       "      <th>y</th>\n",
       "    </tr>\n",
       "  </thead>\n",
       "  <tbody>\n",
       "    <tr>\n",
       "      <th>0</th>\n",
       "      <td>8.0</td>\n",
       "      <td>7.0</td>\n",
       "      <td>8.297619</td>\n",
       "      <td>0</td>\n",
       "    </tr>\n",
       "    <tr>\n",
       "      <th>1</th>\n",
       "      <td>3.0</td>\n",
       "      <td>5.0</td>\n",
       "      <td>7.937979</td>\n",
       "      <td>0</td>\n",
       "    </tr>\n",
       "    <tr>\n",
       "      <th>2</th>\n",
       "      <td>6.0</td>\n",
       "      <td>7.0</td>\n",
       "      <td>10.038736</td>\n",
       "      <td>0</td>\n",
       "    </tr>\n",
       "    <tr>\n",
       "      <th>3</th>\n",
       "      <td>7.0</td>\n",
       "      <td>6.0</td>\n",
       "      <td>12.183313</td>\n",
       "      <td>0</td>\n",
       "    </tr>\n",
       "    <tr>\n",
       "      <th>4</th>\n",
       "      <td>6.0</td>\n",
       "      <td>5.0</td>\n",
       "      <td>9.677187</td>\n",
       "      <td>1</td>\n",
       "    </tr>\n",
       "    <tr>\n",
       "      <th>5</th>\n",
       "      <td>7.0</td>\n",
       "      <td>5.0</td>\n",
       "      <td>13.299628</td>\n",
       "      <td>0</td>\n",
       "    </tr>\n",
       "    <tr>\n",
       "      <th>6</th>\n",
       "      <td>3.0</td>\n",
       "      <td>5.0</td>\n",
       "      <td>6.916411</td>\n",
       "      <td>0</td>\n",
       "    </tr>\n",
       "    <tr>\n",
       "      <th>7</th>\n",
       "      <td>5.0</td>\n",
       "      <td>2.0</td>\n",
       "      <td>8.316049</td>\n",
       "      <td>1</td>\n",
       "    </tr>\n",
       "    <tr>\n",
       "      <th>8</th>\n",
       "      <td>5.0</td>\n",
       "      <td>8.0</td>\n",
       "      <td>8.174413</td>\n",
       "      <td>0</td>\n",
       "    </tr>\n",
       "    <tr>\n",
       "      <th>9</th>\n",
       "      <td>2.0</td>\n",
       "      <td>6.0</td>\n",
       "      <td>8.533317</td>\n",
       "      <td>1</td>\n",
       "    </tr>\n",
       "    <tr>\n",
       "      <th>10</th>\n",
       "      <td>5.0</td>\n",
       "      <td>2.0</td>\n",
       "      <td>7.633054</td>\n",
       "      <td>0</td>\n",
       "    </tr>\n",
       "    <tr>\n",
       "      <th>11</th>\n",
       "      <td>5.0</td>\n",
       "      <td>2.0</td>\n",
       "      <td>13.573022</td>\n",
       "      <td>1</td>\n",
       "    </tr>\n",
       "    <tr>\n",
       "      <th>12</th>\n",
       "      <td>3.0</td>\n",
       "      <td>7.0</td>\n",
       "      <td>9.765295</td>\n",
       "      <td>1</td>\n",
       "    </tr>\n",
       "    <tr>\n",
       "      <th>13</th>\n",
       "      <td>4.0</td>\n",
       "      <td>6.0</td>\n",
       "      <td>10.032035</td>\n",
       "      <td>0</td>\n",
       "    </tr>\n",
       "    <tr>\n",
       "      <th>14</th>\n",
       "      <td>3.0</td>\n",
       "      <td>4.0</td>\n",
       "      <td>11.214626</td>\n",
       "      <td>1</td>\n",
       "    </tr>\n",
       "    <tr>\n",
       "      <th>15</th>\n",
       "      <td>8.0</td>\n",
       "      <td>5.0</td>\n",
       "      <td>8.220673</td>\n",
       "      <td>1</td>\n",
       "    </tr>\n",
       "    <tr>\n",
       "      <th>16</th>\n",
       "      <td>6.0</td>\n",
       "      <td>1.0</td>\n",
       "      <td>8.677240</td>\n",
       "      <td>0</td>\n",
       "    </tr>\n",
       "    <tr>\n",
       "      <th>17</th>\n",
       "      <td>7.0</td>\n",
       "      <td>7.0</td>\n",
       "      <td>13.794173</td>\n",
       "      <td>1</td>\n",
       "    </tr>\n",
       "    <tr>\n",
       "      <th>18</th>\n",
       "      <td>2.0</td>\n",
       "      <td>3.0</td>\n",
       "      <td>12.115598</td>\n",
       "      <td>1</td>\n",
       "    </tr>\n",
       "    <tr>\n",
       "      <th>19</th>\n",
       "      <td>5.0</td>\n",
       "      <td>8.0</td>\n",
       "      <td>6.226230</td>\n",
       "      <td>1</td>\n",
       "    </tr>\n",
       "    <tr>\n",
       "      <th>20</th>\n",
       "      <td>4.0</td>\n",
       "      <td>4.0</td>\n",
       "      <td>8.891929</td>\n",
       "      <td>0</td>\n",
       "    </tr>\n",
       "    <tr>\n",
       "      <th>21</th>\n",
       "      <td>2.0</td>\n",
       "      <td>5.0</td>\n",
       "      <td>5.018717</td>\n",
       "      <td>0</td>\n",
       "    </tr>\n",
       "    <tr>\n",
       "      <th>22</th>\n",
       "      <td>3.0</td>\n",
       "      <td>6.0</td>\n",
       "      <td>12.738946</td>\n",
       "      <td>0</td>\n",
       "    </tr>\n",
       "    <tr>\n",
       "      <th>23</th>\n",
       "      <td>4.0</td>\n",
       "      <td>1.0</td>\n",
       "      <td>9.694300</td>\n",
       "      <td>0</td>\n",
       "    </tr>\n",
       "    <tr>\n",
       "      <th>24</th>\n",
       "      <td>2.0</td>\n",
       "      <td>3.0</td>\n",
       "      <td>8.991872</td>\n",
       "      <td>0</td>\n",
       "    </tr>\n",
       "    <tr>\n",
       "      <th>25</th>\n",
       "      <td>8.0</td>\n",
       "      <td>4.0</td>\n",
       "      <td>11.070437</td>\n",
       "      <td>1</td>\n",
       "    </tr>\n",
       "    <tr>\n",
       "      <th>26</th>\n",
       "      <td>5.0</td>\n",
       "      <td>4.0</td>\n",
       "      <td>10.459243</td>\n",
       "      <td>1</td>\n",
       "    </tr>\n",
       "  </tbody>\n",
       "</table>\n",
       "</div>"
      ],
      "text/plain": [
       "     x1   x2         x1  y\n",
       "0   8.0  7.0   8.297619  0\n",
       "1   3.0  5.0   7.937979  0\n",
       "2   6.0  7.0  10.038736  0\n",
       "3   7.0  6.0  12.183313  0\n",
       "4   6.0  5.0   9.677187  1\n",
       "5   7.0  5.0  13.299628  0\n",
       "6   3.0  5.0   6.916411  0\n",
       "7   5.0  2.0   8.316049  1\n",
       "8   5.0  8.0   8.174413  0\n",
       "9   2.0  6.0   8.533317  1\n",
       "10  5.0  2.0   7.633054  0\n",
       "11  5.0  2.0  13.573022  1\n",
       "12  3.0  7.0   9.765295  1\n",
       "13  4.0  6.0  10.032035  0\n",
       "14  3.0  4.0  11.214626  1\n",
       "15  8.0  5.0   8.220673  1\n",
       "16  6.0  1.0   8.677240  0\n",
       "17  7.0  7.0  13.794173  1\n",
       "18  2.0  3.0  12.115598  1\n",
       "19  5.0  8.0   6.226230  1\n",
       "20  4.0  4.0   8.891929  0\n",
       "21  2.0  5.0   5.018717  0\n",
       "22  3.0  6.0  12.738946  0\n",
       "23  4.0  1.0   9.694300  0\n",
       "24  2.0  3.0   8.991872  0\n",
       "25  8.0  4.0  11.070437  1\n",
       "26  5.0  4.0  10.459243  1"
      ]
     },
     "execution_count": 3,
     "metadata": {},
     "output_type": "execute_result"
    }
   ],
   "source": [
    "ds.examples"
   ]
  },
  {
   "cell_type": "code",
   "execution_count": 4,
   "metadata": {},
   "outputs": [
    {
     "data": {
      "text/plain": [
       "array(['x1', 'x2', 'x1'], dtype=object)"
      ]
     },
     "execution_count": 4,
     "metadata": {},
     "output_type": "execute_result"
    }
   ],
   "source": [
    "ds.features"
   ]
  },
  {
   "cell_type": "code",
   "execution_count": 5,
   "metadata": {},
   "outputs": [
    {
     "data": {
      "text/plain": [
       "array([[0],\n",
       "       [0],\n",
       "       [0],\n",
       "       [0],\n",
       "       [1],\n",
       "       [0],\n",
       "       [0],\n",
       "       [1],\n",
       "       [0],\n",
       "       [1],\n",
       "       [0],\n",
       "       [1],\n",
       "       [1],\n",
       "       [0],\n",
       "       [1],\n",
       "       [1],\n",
       "       [0],\n",
       "       [1],\n",
       "       [1],\n",
       "       [1],\n",
       "       [0],\n",
       "       [0],\n",
       "       [0],\n",
       "       [0],\n",
       "       [0],\n",
       "       [1],\n",
       "       [1]])"
      ]
     },
     "execution_count": 5,
     "metadata": {},
     "output_type": "execute_result"
    }
   ],
   "source": [
    "ds.target "
   ]
  },
  {
   "cell_type": "code",
   "execution_count": 6,
   "metadata": {},
   "outputs": [
    {
     "data": {
      "text/plain": [
       "array([[0],\n",
       "       [0],\n",
       "       [0],\n",
       "       [0],\n",
       "       [1],\n",
       "       [0],\n",
       "       [0],\n",
       "       [1],\n",
       "       [0],\n",
       "       [1],\n",
       "       [0],\n",
       "       [1],\n",
       "       [1],\n",
       "       [0],\n",
       "       [1],\n",
       "       [1],\n",
       "       [0],\n",
       "       [1],\n",
       "       [1],\n",
       "       [1],\n",
       "       [0],\n",
       "       [0],\n",
       "       [0],\n",
       "       [0],\n",
       "       [0],\n",
       "       [1],\n",
       "       [1]])"
      ]
     },
     "execution_count": 6,
     "metadata": {},
     "output_type": "execute_result"
    }
   ],
   "source": [
    "ds.y "
   ]
  },
  {
   "cell_type": "code",
   "execution_count": 7,
   "metadata": {},
   "outputs": [
    {
     "data": {
      "text/plain": [
       "array([[ 8.        ,  7.        ,  8.29761949],\n",
       "       [ 3.        ,  5.        ,  7.93797935],\n",
       "       [ 6.        ,  7.        , 10.038736  ],\n",
       "       [ 7.        ,  6.        , 12.18331277],\n",
       "       [ 6.        ,  5.        ,  9.67718737],\n",
       "       [ 7.        ,  5.        , 13.29962828],\n",
       "       [ 3.        ,  5.        ,  6.91641086],\n",
       "       [ 5.        ,  2.        ,  8.31604889],\n",
       "       [ 5.        ,  8.        ,  8.17441264],\n",
       "       [ 2.        ,  6.        ,  8.53331747],\n",
       "       [ 5.        ,  2.        ,  7.63305378],\n",
       "       [ 5.        ,  2.        , 13.57302212],\n",
       "       [ 3.        ,  7.        ,  9.76529509],\n",
       "       [ 4.        ,  6.        , 10.03203488],\n",
       "       [ 3.        ,  4.        , 11.21462631],\n",
       "       [ 8.        ,  5.        ,  8.22067304],\n",
       "       [ 6.        ,  1.        ,  8.67724021],\n",
       "       [ 7.        ,  7.        , 13.79417288],\n",
       "       [ 2.        ,  3.        , 12.11559806],\n",
       "       [ 5.        ,  8.        ,  6.2262297 ],\n",
       "       [ 4.        ,  4.        ,  8.89192925],\n",
       "       [ 2.        ,  5.        ,  5.01871729],\n",
       "       [ 3.        ,  6.        , 12.73894563],\n",
       "       [ 4.        ,  1.        ,  9.69430018],\n",
       "       [ 2.        ,  3.        ,  8.99187245],\n",
       "       [ 8.        ,  4.        , 11.07043693],\n",
       "       [ 5.        ,  4.        , 10.4592426 ]])"
      ]
     },
     "execution_count": 7,
     "metadata": {},
     "output_type": "execute_result"
    }
   ],
   "source": [
    "ds.inputs"
   ]
  },
  {
   "cell_type": "code",
   "execution_count": 8,
   "metadata": {},
   "outputs": [
    {
     "data": {
      "text/plain": [
       "array([[ 8.        ,  7.        ,  8.29761949],\n",
       "       [ 3.        ,  5.        ,  7.93797935],\n",
       "       [ 6.        ,  7.        , 10.038736  ],\n",
       "       [ 7.        ,  6.        , 12.18331277],\n",
       "       [ 6.        ,  5.        ,  9.67718737],\n",
       "       [ 7.        ,  5.        , 13.29962828],\n",
       "       [ 3.        ,  5.        ,  6.91641086],\n",
       "       [ 5.        ,  2.        ,  8.31604889],\n",
       "       [ 5.        ,  8.        ,  8.17441264],\n",
       "       [ 2.        ,  6.        ,  8.53331747],\n",
       "       [ 5.        ,  2.        ,  7.63305378],\n",
       "       [ 5.        ,  2.        , 13.57302212],\n",
       "       [ 3.        ,  7.        ,  9.76529509],\n",
       "       [ 4.        ,  6.        , 10.03203488],\n",
       "       [ 3.        ,  4.        , 11.21462631],\n",
       "       [ 8.        ,  5.        ,  8.22067304],\n",
       "       [ 6.        ,  1.        ,  8.67724021],\n",
       "       [ 7.        ,  7.        , 13.79417288],\n",
       "       [ 2.        ,  3.        , 12.11559806],\n",
       "       [ 5.        ,  8.        ,  6.2262297 ],\n",
       "       [ 4.        ,  4.        ,  8.89192925],\n",
       "       [ 2.        ,  5.        ,  5.01871729],\n",
       "       [ 3.        ,  6.        , 12.73894563],\n",
       "       [ 4.        ,  1.        ,  9.69430018],\n",
       "       [ 2.        ,  3.        ,  8.99187245],\n",
       "       [ 8.        ,  4.        , 11.07043693],\n",
       "       [ 5.        ,  4.        , 10.4592426 ]])"
      ]
     },
     "execution_count": 8,
     "metadata": {},
     "output_type": "execute_result"
    }
   ],
   "source": [
    "ds.X"
   ]
  },
  {
   "cell_type": "code",
   "execution_count": 9,
   "metadata": {},
   "outputs": [
    {
     "data": {
      "text/plain": [
       "'Sample Data'"
      ]
     },
     "execution_count": 9,
     "metadata": {},
     "output_type": "execute_result"
    }
   ],
   "source": [
    "ds.name"
   ]
  },
  {
   "cell_type": "code",
   "execution_count": 10,
   "metadata": {},
   "outputs": [
    {
     "data": {
      "text/plain": [
       "27"
      ]
     },
     "execution_count": 10,
     "metadata": {},
     "output_type": "execute_result"
    }
   ],
   "source": [
    "ds.N"
   ]
  },
  {
   "cell_type": "code",
   "execution_count": 11,
   "metadata": {},
   "outputs": [
    {
     "data": {
      "text/plain": [
       "3"
      ]
     },
     "execution_count": 11,
     "metadata": {},
     "output_type": "execute_result"
    }
   ],
   "source": [
    "ds.M"
   ]
  },
  {
   "cell_type": "markdown",
   "metadata": {},
   "source": [
    "## Shuffling\n",
    "\n",
    "The above class also supports a few useful methods. One such method is for shuffling the data, which we do often before training. This method returns a new DataSet instance with the shuffled data. Here is how this method is implemented:\n",
    "\n",
    "```python\n",
    "    ...\n",
    "    def shuffled(self, random_state=None):\n",
    "        rgen = np.random.RandomState(random_state)\n",
    "        indexes = np.arange(self.N)\n",
    "        rgen.shuffle(indexes)\n",
    "        return DataSet(self.__examples.iloc[indexes])\n",
    "   ...\n",
    "```\n",
    "\n",
    "Here is an example using this function."
   ]
  },
  {
   "cell_type": "code",
   "execution_count": 12,
   "metadata": {
    "scrolled": false
   },
   "outputs": [
    {
     "data": {
      "text/plain": [
       "     x1   x2         x1  y\n",
       "1   7.0  4.0  11.681516  1\n",
       "18  8.0  6.0  11.676361  1\n",
       "7   7.0  6.0  11.125015  0\n",
       "26  8.0  5.0   7.473321  0\n",
       "20  8.0  1.0  12.522537  1\n",
       "15  3.0  7.0  10.705230  0\n",
       "11  2.0  1.0   9.044078  1\n",
       "17  4.0  2.0  12.994948  1\n",
       "19  5.0  2.0  11.811410  1\n",
       "22  6.0  4.0  13.902294  1\n",
       "2   8.0  8.0  10.383599  0\n",
       "14  2.0  5.0  12.767474  0\n",
       "5   2.0  3.0   9.265486  0\n",
       "8   6.0  4.0   9.321202  0\n",
       "16  3.0  3.0  11.519305  1\n",
       "12  6.0  7.0   9.051530  1\n",
       "13  6.0  7.0  10.273107  1\n",
       "21  7.0  1.0   8.798935  1\n",
       "24  5.0  4.0   8.960831  0\n",
       "6   6.0  8.0   8.359678  0\n",
       "0   7.0  8.0   8.933853  0\n",
       "23  2.0  7.0  11.100170  0\n",
       "4   2.0  8.0   8.675031  1\n",
       "3   4.0  2.0   9.443225  1\n",
       "10  2.0  4.0  11.782023  1\n",
       "9   6.0  8.0   9.104118  0\n",
       "25  2.0  4.0  11.141692  0"
      ]
     },
     "execution_count": 12,
     "metadata": {},
     "output_type": "execute_result"
    }
   ],
   "source": [
    "ds = DataSet(np.array([\n",
    "    np.random.randint(2,9, 27),\n",
    "    np.random.randint(1,9, 27),\n",
    "    np.random.normal(loc=10, scale=2, size=27)\n",
    "]).T, features=['x1', 'x2', 'x1'], y=np.random.randint(0,2, 27), name=\"Sample Data\")\n",
    "\n",
    "\n",
    "ds.shuffled()"
   ]
  },
  {
   "cell_type": "markdown",
   "metadata": {},
   "source": [
    "## Splitting a dataset into training and test datasets\n",
    "\n",
    "Another useful method provided by the above dataset class is the `train_test_split` method. This method splits the dataset into a training and test sets. Here is how this method is implemented:\n",
    "\n",
    "```python\n",
    "    ...\n",
    "    def train_test_split(self,start=0, end=None, test_portion=None, shuffle=False, random_state=None):\n",
    "        \"\"\"\n",
    "        Splits the dataset into a training set and atest set. \n",
    "        If test_portion is specified, return that portion of the dataset as test \n",
    "        and the rest as training. \n",
    "        Otherwise, return the examples between start and end as test and the \n",
    "        rest as training.\n",
    "        \"\"\"\n",
    "        indexes = np.arange(self.N)\n",
    "        if shuffle is True:\n",
    "            rgen = np.random.RandomState(random_state)\n",
    "            rgen.shuffle(indexes)\n",
    "\n",
    "        if test_portion is None:\n",
    "            end = end or self.N\n",
    "        else:\n",
    "            if not isinstance(test_portion, float) or test_portion < 0 or test_portion > 1:\n",
    "                raise TypeError(\"Only fractions between ]0,1[ are allowed\")\n",
    "\n",
    "            start = self.N - int(self.N * test_portion)\n",
    "            end = self.N\n",
    "\n",
    "        test = DataSet(self.examples.iloc[indexes[range(start, end)]])\n",
    "        train = DataSet(pd.concat([self.examples.iloc[indexes[range(start)]], \n",
    "                                      self.examples.iloc[indexes[range(end, self.N)]]], axis=0))    \n",
    "        return train, test\n",
    "   ...\n",
    "```\n",
    "\n",
    "If the `start` and end `end` parameters exist, the method returns the examples before them as test and the rest of the data as training. If `test_portion` is provided, then that portion of the data is returned as test and the rest as training. The `shuffle` parameter can be used to instruct the method to shuffle the data before splitting it. The method finally returns two dataset instances: training and test sets.\n",
    "\n",
    "Here is an example using this method."
   ]
  },
  {
   "cell_type": "code",
   "execution_count": 13,
   "metadata": {
    "scrolled": false
   },
   "outputs": [
    {
     "name": "stdout",
     "output_type": "stream",
     "text": [
      "Training set = \n",
      "      x1   x2         x1  y\n",
      "0   8.0  6.0   6.379799  1\n",
      "1   3.0  1.0  10.590870  0\n",
      "2   7.0  5.0   7.918732  1\n",
      "3   3.0  7.0  12.414473  0\n",
      "4   5.0  8.0   7.277684  0\n",
      "5   4.0  5.0  10.071677  0\n",
      "6   8.0  2.0   8.512784  1\n",
      "7   7.0  6.0  11.521260  0\n",
      "8   2.0  8.0   7.431489  0\n",
      "9   3.0  7.0  13.411027  1\n",
      "10  4.0  4.0  13.670948  1\n",
      "11  6.0  5.0   7.185314  1\n",
      "12  4.0  2.0  12.590617  1\n",
      "13  4.0  2.0   7.258792  0\n",
      "14  4.0  5.0   9.115850  0\n",
      "15  8.0  2.0   9.533879  0\n",
      "16  6.0  1.0   8.634883  0\n",
      "17  4.0  6.0   9.237838  0\n",
      "18  6.0  8.0  10.155867  0\n",
      "19  5.0  6.0  12.325432  1\n",
      "20  6.0  6.0  13.186454  1\n",
      "Test set = \n",
      "      x1   x2         x1  y\n",
      "21  6.0  8.0   8.921916  1\n",
      "22  8.0  3.0  11.266343  0\n",
      "23  2.0  7.0  11.571966  1\n",
      "24  7.0  6.0  11.546789  1\n",
      "25  7.0  6.0   8.381000  0\n",
      "26  3.0  7.0   8.933807  0\n"
     ]
    }
   ],
   "source": [
    "ds = DataSet(np.array([\n",
    "    np.random.randint(2,9, 27),\n",
    "    np.random.randint(1,9, 27),\n",
    "    np.random.normal(loc=10, scale=2, size=27)\n",
    "]).T, features=['x1', 'x2', 'x1'], y=np.random.randint(0,2, 27), name=\"Sample Data\")\n",
    "\n",
    "\n",
    "ta, te = ds.train_test_split(test_portion=.25, shuffle=False, random_state=17)\n",
    "print('Training set = \\n', ta)\n",
    "print('Test set = \\n', te)"
   ]
  },
  {
   "cell_type": "markdown",
   "metadata": {},
   "source": [
    "## Using this dataset class inside other notebooks\n",
    "\n",
    "This class is part of the `mylib` library of this class with is provided to you. Here is how to import this library:"
   ]
  },
  {
   "cell_type": "code",
   "execution_count": 14,
   "metadata": {},
   "outputs": [],
   "source": [
    "import mylib as my"
   ]
  },
  {
   "cell_type": "markdown",
   "metadata": {},
   "source": [
    "Once imported, one can use it like this:"
   ]
  },
  {
   "cell_type": "code",
   "execution_count": 15,
   "metadata": {},
   "outputs": [
    {
     "name": "stdout",
     "output_type": "stream",
     "text": [
      "Training set = \n",
      "      x1   x2         x1  y\n",
      "0   7.0  3.0  12.715125  0\n",
      "1   8.0  2.0  13.175442  0\n",
      "2   7.0  2.0  11.787256  0\n",
      "3   3.0  6.0  10.999183  1\n",
      "4   8.0  7.0  10.434643  0\n",
      "5   5.0  5.0  12.617252  0\n",
      "6   4.0  2.0  12.421318  0\n",
      "7   7.0  5.0   7.000473  0\n",
      "8   2.0  4.0   7.808557  0\n",
      "9   6.0  2.0   6.923458  0\n",
      "10  6.0  8.0   8.579182  0\n",
      "11  3.0  5.0   9.922621  1\n",
      "12  3.0  4.0  11.188480  1\n",
      "13  3.0  2.0  10.947124  0\n",
      "14  7.0  5.0  16.118540  1\n",
      "15  6.0  1.0  11.699667  0\n",
      "16  5.0  7.0  10.982453  1\n",
      "17  3.0  3.0  11.804204  1\n",
      "18  2.0  2.0  10.631997  1\n",
      "19  5.0  2.0   8.827421  1\n",
      "20  8.0  5.0  11.392963  0\n",
      "Test set = \n",
      "      x1   x2         x1  y\n",
      "21  8.0  4.0   8.505845  1\n",
      "22  2.0  2.0   9.927662  1\n",
      "23  3.0  7.0  12.016942  0\n",
      "24  8.0  6.0   7.573557  0\n",
      "25  2.0  4.0   9.686708  0\n",
      "26  6.0  3.0   8.843435  1\n"
     ]
    }
   ],
   "source": [
    "ds = my.DataSet(np.array([\n",
    "    np.random.randint(2,9, 27),\n",
    "    np.random.randint(1,9, 27),\n",
    "    np.random.normal(loc=10, scale=2, size=27)\n",
    "]).T, features=['x1', 'x2', 'x1'], y=np.random.randint(0,2, 27), name=\"Sample Data\")\n",
    "\n",
    "\n",
    "ta, te = ds.train_test_split(test_portion=.25, shuffle=False, random_state=17)\n",
    "print('Training set = \\n', ta)\n",
    "print('Test set = \\n', te)"
   ]
  },
  {
   "cell_type": "markdown",
   "metadata": {},
   "source": [
    "## EXERCISE\n",
    "\n",
    "Refactor the above DataSet class by adding a method named `train_validation_test_split` to it. This method should split the data into three sets: training, validation, and test. This method should receive a dictionary parameter named `portions` specifying how much of the data is in each set. For a 75%/15%/10% split, one can use the following portions parameter:\n",
    "\n",
    "```python\n",
    "portions={\"training\": .75, 'validation': .15, 'test': .10 }\n",
    "```\n",
    "\n",
    "The method should support the `shuffle` parameter as well. You may call the `train_test_split` method internally. Make sure to include a comment describing how your implementation of the method works. Test your method on the `ds` dataset above and show that it works."
   ]
  },
  {
   "cell_type": "code",
   "execution_count": 16,
   "metadata": {},
   "outputs": [],
   "source": [
    "# TODO"
   ]
  }
 ],
 "metadata": {
  "kernelspec": {
   "display_name": "Python 3.10.4 ('ml')",
   "language": "python",
   "name": "python3"
  },
  "language_info": {
   "codemirror_mode": {
    "name": "ipython",
    "version": 3
   },
   "file_extension": ".py",
   "mimetype": "text/x-python",
   "name": "python",
   "nbconvert_exporter": "python",
   "pygments_lexer": "ipython3",
   "version": "3.10.4"
  },
  "vscode": {
   "interpreter": {
    "hash": "e277e358f5de95c63d085be8a59273806cbe038eab0f4a9f83af798fce1d98c6"
   }
  }
 },
 "nbformat": 4,
 "nbformat_minor": 4
}
