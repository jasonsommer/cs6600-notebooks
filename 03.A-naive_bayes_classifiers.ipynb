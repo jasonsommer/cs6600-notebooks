{
 "cells": [
  {
   "cell_type": "markdown",
   "metadata": {},
   "source": [
    "# 03.A: Naive Bayes classifiers"
   ]
  },
  {
   "cell_type": "code",
   "execution_count": 1,
   "metadata": {},
   "outputs": [],
   "source": [
    "%matplotlib inline\n",
    "\n",
    "import math\n",
    "import numpy as np\n",
    "import pandas as pd\n",
    "import scipy.stats as st\n",
    "import seaborn as sns\n",
    "import matplotlib.pyplot as plt\n",
    "\n",
    "import mylib as my"
   ]
  },
  {
   "cell_type": "markdown",
   "metadata": {},
   "source": [
    "## Multinomial naive Bayes classifier\n",
    "Given an unseen example $\\boldsymbol{x}$, we want to predict its corresponding $y$ from a set of possible classes $y_1, y_2, \\dots$. We can do so by picking the $y$ such that:\n",
    "$$ y = \\operatorname*{argmax}_{i}\\ \\ P(y_i | \\boldsymbol{x})$$\n",
    "\n",
    "We can calculate $P(y_i | \\boldsymbol{x})$ using the formula:\n",
    "$$ P(y_i | \\boldsymbol{x}) = \\alpha\\ P(y_i) P(\\boldsymbol{x} | y_i) $$\n",
    "\n",
    "where $\\alpha$ is a normalizing factor and $P(y_i)$ is the prior probability which can be estimated from the training dataset.\n",
    "\n",
    "What makes **naive Bayes** naive is the strong assumption that the features $x_1, x_2, x_3, \\cdots, x_m$ are independent from one another. Such an assumption allows us to write:\n",
    "\n",
    "$$P(\\boldsymbol{x} | y_i) = P(x_1, x_2, x_3, \\cdots, x_m| y_i) = P(x_1 | y_i)P(x_2 | y_i)P(x_3 | y_i)\\cdots P(x_m | y_i)$$\n",
    " \n",
    "The $P(x_j | y_i)$ is the likelihood of $x_j$ given the class $y_i$, which can be estimated from the training set as well."
   ]
  },
  {
   "cell_type": "code",
   "execution_count": 2,
   "metadata": {},
   "outputs": [],
   "source": [
    "class NaiveBayesClassifier:\n",
    "    def fit(self, dataset):\n",
    "        \"\"\"\n",
    "        Sets things up for classification by preprocessing the training dataset\n",
    "        and calculating the priors\n",
    "        \"\"\"\n",
    "        self.ds = dataset\n",
    "        self.labels = self.ds.examples.iloc[:, -1].unique()\n",
    "        self.prior = self.ds.examples.iloc[:, -1].value_counts() / self.ds.examples.iloc[:, -1].count()\n",
    "    \n",
    "    def predict(self, unseen):\n",
    "        \"\"\"\n",
    "        Returns the most probable label (or class) for each unseen input\n",
    "        \"\"\"\n",
    "        if unseen.ndim == 1:\n",
    "            x = pd.Series(unseen, index= self.ds.features)\n",
    "            prob = pd.Series(0.0, index= self.labels)\n",
    "            for lbl in self.labels:\n",
    "                df_per_lbl = self.ds.examples.where(self.ds.examples.iloc[:, -1] == lbl).dropna()\n",
    "\n",
    "                likelihood = 1\n",
    "                for f in self.ds.features:\n",
    "                    prob_per_lbl = df_per_lbl[f].value_counts() / df_per_lbl[f].count()\n",
    "                    likelihood *= prob_per_lbl[x[f]] if x[f] in prob_per_lbl else 0\n",
    "\n",
    "                prob[lbl] = likelihood * self.prior[lbl]\n",
    "                \n",
    "            return prob.idxmax()\n",
    "        \n",
    "        else:\n",
    "            return np.array([self.predict(ex) for ex in unseen])"
   ]
  },
  {
   "cell_type": "markdown",
   "metadata": {},
   "source": [
    "## An example\n",
    "Let's test this using the example from the textbook:"
   ]
  },
  {
   "cell_type": "code",
   "execution_count": 3,
   "metadata": {},
   "outputs": [],
   "source": [
    "ds = my.DataSet(pd.DataFrame({\n",
    "    'deadline': ['ur', 'ur', 'ne', 'no', 'no', 'no', 'ne', 'ne', 'ne', 'ur'],\n",
    "    'party': ['Y', 'N', 'Y', 'Y', 'N', 'Y', 'N', 'N', 'Y', 'N'],\n",
    "    'lazy': ['Y', 'Y', 'Y', 'N', 'Y', 'N', 'N', 'Y', 'Y', 'N'],\n",
    "    'activity': ['Pa', 'St', 'Pa', 'Pa', 'Pu', 'Pa', 'St', 'tv', 'Pa', 'St']\n",
    "}), y=True)"
   ]
  },
  {
   "cell_type": "code",
   "execution_count": 4,
   "metadata": {
    "scrolled": true
   },
   "outputs": [
    {
     "data": {
      "text/html": [
       "<div>\n",
       "<style scoped>\n",
       "    .dataframe tbody tr th:only-of-type {\n",
       "        vertical-align: middle;\n",
       "    }\n",
       "\n",
       "    .dataframe tbody tr th {\n",
       "        vertical-align: top;\n",
       "    }\n",
       "\n",
       "    .dataframe thead th {\n",
       "        text-align: right;\n",
       "    }\n",
       "</style>\n",
       "<table border=\"1\" class=\"dataframe\">\n",
       "  <thead>\n",
       "    <tr style=\"text-align: right;\">\n",
       "      <th></th>\n",
       "      <th>deadline</th>\n",
       "      <th>party</th>\n",
       "      <th>lazy</th>\n",
       "      <th>y</th>\n",
       "    </tr>\n",
       "  </thead>\n",
       "  <tbody>\n",
       "    <tr>\n",
       "      <th>0</th>\n",
       "      <td>ur</td>\n",
       "      <td>Y</td>\n",
       "      <td>Y</td>\n",
       "      <td>Pa</td>\n",
       "    </tr>\n",
       "    <tr>\n",
       "      <th>1</th>\n",
       "      <td>ur</td>\n",
       "      <td>N</td>\n",
       "      <td>Y</td>\n",
       "      <td>St</td>\n",
       "    </tr>\n",
       "    <tr>\n",
       "      <th>2</th>\n",
       "      <td>ne</td>\n",
       "      <td>Y</td>\n",
       "      <td>Y</td>\n",
       "      <td>Pa</td>\n",
       "    </tr>\n",
       "    <tr>\n",
       "      <th>3</th>\n",
       "      <td>no</td>\n",
       "      <td>Y</td>\n",
       "      <td>N</td>\n",
       "      <td>Pa</td>\n",
       "    </tr>\n",
       "    <tr>\n",
       "      <th>4</th>\n",
       "      <td>no</td>\n",
       "      <td>N</td>\n",
       "      <td>Y</td>\n",
       "      <td>Pu</td>\n",
       "    </tr>\n",
       "    <tr>\n",
       "      <th>5</th>\n",
       "      <td>no</td>\n",
       "      <td>Y</td>\n",
       "      <td>N</td>\n",
       "      <td>Pa</td>\n",
       "    </tr>\n",
       "    <tr>\n",
       "      <th>6</th>\n",
       "      <td>ne</td>\n",
       "      <td>N</td>\n",
       "      <td>N</td>\n",
       "      <td>St</td>\n",
       "    </tr>\n",
       "    <tr>\n",
       "      <th>7</th>\n",
       "      <td>ne</td>\n",
       "      <td>N</td>\n",
       "      <td>Y</td>\n",
       "      <td>tv</td>\n",
       "    </tr>\n",
       "    <tr>\n",
       "      <th>8</th>\n",
       "      <td>ne</td>\n",
       "      <td>Y</td>\n",
       "      <td>Y</td>\n",
       "      <td>Pa</td>\n",
       "    </tr>\n",
       "    <tr>\n",
       "      <th>9</th>\n",
       "      <td>ur</td>\n",
       "      <td>N</td>\n",
       "      <td>N</td>\n",
       "      <td>St</td>\n",
       "    </tr>\n",
       "  </tbody>\n",
       "</table>\n",
       "</div>"
      ],
      "text/plain": [
       "  deadline party lazy   y\n",
       "0       ur     Y    Y  Pa\n",
       "1       ur     N    Y  St\n",
       "2       ne     Y    Y  Pa\n",
       "3       no     Y    N  Pa\n",
       "4       no     N    Y  Pu\n",
       "5       no     Y    N  Pa\n",
       "6       ne     N    N  St\n",
       "7       ne     N    Y  tv\n",
       "8       ne     Y    Y  Pa\n",
       "9       ur     N    N  St"
      ]
     },
     "execution_count": 4,
     "metadata": {},
     "output_type": "execute_result"
    }
   ],
   "source": [
    "ds.examples"
   ]
  },
  {
   "cell_type": "code",
   "execution_count": 5,
   "metadata": {},
   "outputs": [
    {
     "name": "stdout",
     "output_type": "stream",
     "text": [
      "tv\n"
     ]
    }
   ],
   "source": [
    "nb = NaiveBayesClassifier()\n",
    "nb.fit(ds)\n",
    "print(nb.predict(np.array(['ne', 'N', 'Y'])))"
   ]
  },
  {
   "cell_type": "code",
   "execution_count": 6,
   "metadata": {
    "scrolled": false
   },
   "outputs": [
    {
     "name": "stdout",
     "output_type": "stream",
     "text": [
      "[[5 0 0 0]\n",
      " [0 1 0 0]\n",
      " [0 0 3 0]\n",
      " [0 0 0 1]]\n",
      "Training accuracy:  1.0\n"
     ]
    }
   ],
   "source": [
    "cm = my.confusion_matrix(ds.target, nb.predict(ds.inputs))\n",
    "accuracy = np.trace(cm) / np.sum(cm)\n",
    "\n",
    "print(cm)\n",
    "print('Training accuracy: ', accuracy)"
   ]
  },
  {
   "cell_type": "markdown",
   "metadata": {},
   "source": [
    "## Gaussian naive Bayes classifier\n",
    "The previous classifier does not work with continuous-valued features. For these features, we estimate the prior probabilities like before based on the training set. For the likelihood (conditional) probabilities, we make the assumption that they follow the normal (or Gaussian) distribution. Then we use training set to estimate the $\\mu$ and $\\sigma$ parameters of these Gaussian distributions."
   ]
  },
  {
   "cell_type": "code",
   "execution_count": 7,
   "metadata": {},
   "outputs": [],
   "source": [
    "class GaussianNaiveBayesClassifier:\n",
    "    def fit(self, dataset):\n",
    "        \"\"\"\n",
    "        Sets things up for classification by preprocessing the training dataset\n",
    "        and calculating the priors\n",
    "        \"\"\"\n",
    "        self.ds = dataset\n",
    "        self.labels = self.ds.examples.iloc[:, -1].unique()\n",
    "        self.label_column = self.ds.examples.columns[-1]\n",
    "        self.prior = self.ds.examples.iloc[:, -1].value_counts() / self.ds.examples.iloc[:, -1].count()\n",
    "        self.mu = self.ds.examples.groupby(self.label_column).mean()\n",
    "        self.std = self.ds.examples.groupby(self.label_column).std()\n",
    "    \n",
    "    def predict(self, unseen):\n",
    "        \"\"\"\n",
    "        Returns the most probable label (or class) for each unseen input\n",
    "        \"\"\"\n",
    "        if unseen.ndim == 1:\n",
    "            x = pd.Series(unseen, index= self.ds.features)\n",
    "            prob = pd.Series(0.0, index= self.labels)\n",
    "            for lbl in self.labels:\n",
    "                df_per_lbl = self.ds.examples.where(self.ds.examples.iloc[:, -1] == lbl).dropna()\n",
    "                likelihood = 1\n",
    "                for f in self.ds.features:\n",
    "                    likelihood *= st.norm.pdf(x[f], loc= self.mu.at[lbl, f], scale=self.std.at[lbl, f])\n",
    "\n",
    "                prob[lbl] = likelihood * self.prior[lbl]\n",
    "                \n",
    "            return prob.idxmax()\n",
    "        \n",
    "        else:\n",
    "            return np.array([self.predict(ex) for ex in unseen])"
   ]
  },
  {
   "cell_type": "markdown",
   "metadata": {},
   "source": [
    "# An example"
   ]
  },
  {
   "cell_type": "code",
   "execution_count": 8,
   "metadata": {},
   "outputs": [
    {
     "data": {
      "text/plain": [
       "            x1         x2    y\n",
       "0    -1.107418  11.799549 -1.0\n",
       "1     2.640071  16.424396 -1.0\n",
       "2     6.797893  12.722799 -1.0\n",
       "3     2.150265  12.878769 -1.0\n",
       "4     2.190103  13.730486 -1.0\n",
       "..         ...        ...  ...\n",
       "145   9.498926  12.777630  1.0\n",
       "146  12.816213  11.884599  1.0\n",
       "147  11.229323   9.285502  1.0\n",
       "148  11.933069  12.184025  1.0\n",
       "149  11.685033  10.690685  1.0\n",
       "\n",
       "[150 rows x 3 columns]"
      ]
     },
     "execution_count": 8,
     "metadata": {},
     "output_type": "execute_result"
    }
   ],
   "source": [
    "basis = np.array([[3, 14],[4, 4],[10, 9]])\n",
    "a_ = np.concatenate((\n",
    "        basis[0,0] + np.random.normal(loc=1, scale=2.5, size=(50, 1)), \n",
    "        basis[0, 1] + np.random.normal(loc=1, scale=2.6, size=(50, 1)), \n",
    "        np.full(50, -1).reshape(50,1)), axis= 1)\n",
    "\n",
    "b_ = np.concatenate((\n",
    "        basis[1,0] + np.random.normal(loc=.8, scale=2.5, size=(50, 1)), \n",
    "        basis[1, 1] + np.random.normal(loc=.8, scale=2.4, size=(50, 1)), \n",
    "        np.full(50, 0).reshape(50,1)), axis= 1)\n",
    "\n",
    "c_ = np.concatenate((\n",
    "        basis[2,0] + np.random.normal(loc=.5, scale=2.5, size=(50, 1)), \n",
    "        basis[2, 1] + np.random.normal(loc=.5, scale=2.6, size=(50, 1)), \n",
    "        np.full(50, 1).reshape(50,1)), axis= 1)\n",
    "data = pd.DataFrame(np.concatenate([a_, b_, c_], axis=0), columns=['x1', 'x2', 't'])\n",
    "ds = my.DataSet(data, y=True)\n",
    "ds"
   ]
  },
  {
   "cell_type": "code",
   "execution_count": 9,
   "metadata": {},
   "outputs": [
    {
     "name": "stdout",
     "output_type": "stream",
     "text": [
      "[[48  1  1]\n",
      " [ 0 47  3]\n",
      " [ 1  4 45]]\n",
      "Training accuracy:  0.9333333333333333\n"
     ]
    }
   ],
   "source": [
    "gnb = GaussianNaiveBayesClassifier()\n",
    "gnb.fit(ds)\n",
    "cm = my.confusion_matrix(ds.target, gnb.predict(ds.inputs))\n",
    "accuracy = np.trace(cm) / np.sum(cm)\n",
    "\n",
    "print(cm)\n",
    "print('Training accuracy: ', accuracy)"
   ]
  },
  {
   "cell_type": "code",
   "execution_count": 10,
   "metadata": {},
   "outputs": [
    {
     "data": {
      "image/png": "[encoded data removed]",
      "text/plain": [
       "<Figure size 1152x648 with 1 Axes>"
      ]
     },
     "metadata": {
      "needs_background": "light"
     },
     "output_type": "display_data"
    }
   ],
   "source": [
    "my.plot_decision_regions(ds.inputs, ds.target, gnb, resolution=0.5, title=\"Training decision regions\")"
   ]
  },
  {
   "cell_type": "markdown",
   "metadata": {},
   "source": [
    "## CHALLENGE\n",
    "Re-implement the above `GaussianNaiveBayesClassifier` so as to make the `predict` method non-recursive. \n",
    "* Test your implementation and plot the decision regions of your training set.\n",
    "* Benchmark your implementation using the `%%timeit` magic command against the above recursive implementation. Report any performance gain/loss you see.\n"
   ]
  },
  {
   "cell_type": "code",
   "execution_count": 11,
   "metadata": {},
   "outputs": [],
   "source": [
    "# TODO"
   ]
  }
 ],
 "metadata": {
  "kernelspec": {
   "display_name": "Python 3.7.13 ('ml')",
   "language": "python",
   "name": "python3"
  },
  "language_info": {
   "codemirror_mode": {
    "name": "ipython",
    "version": 3
   },
   "file_extension": ".py",
   "mimetype": "text/x-python",
   "name": "python",
   "nbconvert_exporter": "python",
   "pygments_lexer": "ipython3",
   "version": "3.7.13"
  },
  "vscode": {
   "interpreter": {
    "hash": "0c4ab92bbc10d18b480eb40b47e751a2f458ae1b2b88576453c716fde62785ad"
   }
  }
 },
 "nbformat": 4,
 "nbformat_minor": 4
}
