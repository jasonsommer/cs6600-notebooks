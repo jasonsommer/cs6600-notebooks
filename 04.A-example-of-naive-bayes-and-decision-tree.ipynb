{
 "cells": [
  {
   "cell_type": "markdown",
   "id": "14662aac",
   "metadata": {},
   "source": [
    "# 04.A: A detailed example"
   ]
  },
  {
   "cell_type": "code",
   "execution_count": 1,
   "id": "1945a53d",
   "metadata": {},
   "outputs": [],
   "source": [
    "%matplotlib inline\n",
    "\n",
    "import numpy as np\n",
    "import pandas as pd\n",
    "import matplotlib.pyplot as plt\n",
    "from math import log\n",
    "import mylib as my"
   ]
  },
  {
   "cell_type": "markdown",
   "id": "84bcd8c5",
   "metadata": {},
   "source": [
    "## The problem\n",
    "\n",
    "First, here is the data we'll be working with:"
   ]
  },
  {
   "cell_type": "code",
   "execution_count": 2,
   "id": "c88c6412",
   "metadata": {},
   "outputs": [
    {
     "data": {
      "text/html": [
       "<div>\n",
       "<style scoped>\n",
       "    .dataframe tbody tr th:only-of-type {\n",
       "        vertical-align: middle;\n",
       "    }\n",
       "\n",
       "    .dataframe tbody tr th {\n",
       "        vertical-align: top;\n",
       "    }\n",
       "\n",
       "    .dataframe thead th {\n",
       "        text-align: right;\n",
       "    }\n",
       "</style>\n",
       "<table border=\"1\" class=\"dataframe\">\n",
       "  <thead>\n",
       "    <tr style=\"text-align: right;\">\n",
       "      <th></th>\n",
       "      <th>deadline</th>\n",
       "      <th>party</th>\n",
       "      <th>lazy</th>\n",
       "      <th>y</th>\n",
       "    </tr>\n",
       "  </thead>\n",
       "  <tbody>\n",
       "    <tr>\n",
       "      <th>0</th>\n",
       "      <td>Urgent</td>\n",
       "      <td>Yes</td>\n",
       "      <td>Yes</td>\n",
       "      <td>Party</td>\n",
       "    </tr>\n",
       "    <tr>\n",
       "      <th>1</th>\n",
       "      <td>Urgent</td>\n",
       "      <td>No</td>\n",
       "      <td>Yes</td>\n",
       "      <td>Study</td>\n",
       "    </tr>\n",
       "    <tr>\n",
       "      <th>2</th>\n",
       "      <td>Near</td>\n",
       "      <td>Yes</td>\n",
       "      <td>Yes</td>\n",
       "      <td>Party</td>\n",
       "    </tr>\n",
       "    <tr>\n",
       "      <th>3</th>\n",
       "      <td>None</td>\n",
       "      <td>Yes</td>\n",
       "      <td>No</td>\n",
       "      <td>Party</td>\n",
       "    </tr>\n",
       "    <tr>\n",
       "      <th>4</th>\n",
       "      <td>None</td>\n",
       "      <td>No</td>\n",
       "      <td>Yes</td>\n",
       "      <td>Pub</td>\n",
       "    </tr>\n",
       "    <tr>\n",
       "      <th>5</th>\n",
       "      <td>None</td>\n",
       "      <td>Yes</td>\n",
       "      <td>No</td>\n",
       "      <td>Party</td>\n",
       "    </tr>\n",
       "    <tr>\n",
       "      <th>6</th>\n",
       "      <td>Near</td>\n",
       "      <td>No</td>\n",
       "      <td>No</td>\n",
       "      <td>Study</td>\n",
       "    </tr>\n",
       "    <tr>\n",
       "      <th>7</th>\n",
       "      <td>Near</td>\n",
       "      <td>No</td>\n",
       "      <td>Yes</td>\n",
       "      <td>TV</td>\n",
       "    </tr>\n",
       "    <tr>\n",
       "      <th>8</th>\n",
       "      <td>Near</td>\n",
       "      <td>Yes</td>\n",
       "      <td>Yes</td>\n",
       "      <td>Party</td>\n",
       "    </tr>\n",
       "    <tr>\n",
       "      <th>9</th>\n",
       "      <td>Urgent</td>\n",
       "      <td>No</td>\n",
       "      <td>No</td>\n",
       "      <td>Study</td>\n",
       "    </tr>\n",
       "  </tbody>\n",
       "</table>\n",
       "</div>"
      ],
      "text/plain": [
       "  deadline party lazy      y\n",
       "0   Urgent   Yes  Yes  Party\n",
       "1   Urgent    No  Yes  Study\n",
       "2     Near   Yes  Yes  Party\n",
       "3     None   Yes   No  Party\n",
       "4     None    No  Yes    Pub\n",
       "5     None   Yes   No  Party\n",
       "6     Near    No   No  Study\n",
       "7     Near    No  Yes     TV\n",
       "8     Near   Yes  Yes  Party\n",
       "9   Urgent    No   No  Study"
      ]
     },
     "execution_count": 2,
     "metadata": {},
     "output_type": "execute_result"
    }
   ],
   "source": [
    "df = pd.DataFrame({\n",
    "    'deadline': ['Urgent', 'Urgent', 'Near', 'None', 'None', 'None', 'Near', 'Near', 'Near', 'Urgent'],\n",
    "    'party': ['Yes', 'No', 'Yes', 'Yes', 'No', 'Yes', 'No', 'No', 'Yes', 'No'],\n",
    "    'lazy': ['Yes', 'Yes', 'Yes', 'No', 'Yes', 'No', 'No', 'Yes', 'Yes', 'No'],\n",
    "    'y': ['Party', 'Study', 'Party', 'Party', 'Pub', 'Party', 'Study', 'TV', 'Party', 'Study']\n",
    "})\n",
    "\n",
    "df"
   ]
  },
  {
   "cell_type": "markdown",
   "id": "b208bd11",
   "metadata": {},
   "source": [
    "Given this data, what should $y$ be for the following example? "
   ]
  },
  {
   "cell_type": "code",
   "execution_count": 3,
   "id": "61bd7717",
   "metadata": {},
   "outputs": [],
   "source": [
    "x = { \"deadline\": \"Near\", \"party\": \"No\", \"lazy\": \"No\" }"
   ]
  },
  {
   "cell_type": "markdown",
   "id": "f1eee800",
   "metadata": {},
   "source": [
    "## Solution 1: Using a naive Bayes classifier\n",
    "\n",
    "### How naive Bayes classifiers work\n",
    "\n",
    "Given an unseen example $\\boldsymbol{x}$, we want to predict its corresponding $y$ from a set of possible classes (labels) $y_1, y_2, \\dots$. We can do so by picking the $y$ such that:\n",
    "$$ y = \\operatorname*{argmax}_{i}\\ \\ P(y_i | \\boldsymbol{x})$$\n",
    "\n",
    "This basically translates to the following steps:\n",
    "\n",
    "* For each of the possible classes (labels) $y_i$ in the output column, calculate $P(y_i | \\boldsymbol{x})$ using the formula:\n",
    "\n",
    "    $$ P(y_i | \\boldsymbol{x}) = P(y_i) P(x_1 | y_i)P(x_2 | y_i)P(x_3 | y_i)\\cdots P(x_m | y_i)$$\n",
    " \n",
    "* Return the class (label) $y_i$ that corresponds to the largest value for $P(y_i | \\boldsymbol{x})$\n",
    "\n",
    "In this example problem we have:\n",
    "\n",
    "* Four output classes: $y_1 = Party,\\ y_2 = Study,\\ y_3 = TV,\\ and\\ y_4 = Pub$ \n",
    "* Three input features: deadline, party (whether there is a party or not), lazy(whether you are feeling lazy or not)\n",
    "* The unseen example $x$ has three values: $x_1$ corresponds to its value for the deadline feature, $x_2$ to its value for the party feature, and $x_3$ to its value for the lazy feature.\n"
   ]
  },
  {
   "cell_type": "markdown",
   "id": "883544e2",
   "metadata": {},
   "source": [
    "### Answer\n",
    "\n",
    "First we find out the possible output classes $y_i$:"
   ]
  },
  {
   "cell_type": "code",
   "execution_count": 4,
   "id": "eb6a9d44",
   "metadata": {},
   "outputs": [
    {
     "data": {
      "text/plain": [
       "array(['Party', 'Study', 'Pub', 'TV'], dtype=object)"
      ]
     },
     "execution_count": 4,
     "metadata": {},
     "output_type": "execute_result"
    }
   ],
   "source": [
    "df['y'].unique()"
   ]
  },
  {
   "cell_type": "markdown",
   "id": "87a5ea7a",
   "metadata": {},
   "source": [
    "For each one of these classes, we need to calculate $p(y_i | \\boldsymbol{x})$\n",
    "\n",
    "1. For the case where $y_i = Party$, we need to calculate $$ P(y_i=Party|\\boldsymbol{x}) = P(y_i=Party) * P(x.deadline|y_i=Party) * p(x.party|y_i=Party) * p(x.lazy|y_i=Party)$$\n",
    "\n"
   ]
  },
  {
   "cell_type": "code",
   "execution_count": 5,
   "id": "2bd0fa8a",
   "metadata": {},
   "outputs": [
    {
     "data": {
      "text/plain": [
       "0.0"
      ]
     },
     "execution_count": 5,
     "metadata": {},
     "output_type": "execute_result"
    }
   ],
   "source": [
    "# Start with the reduced sample space - only the examples where y is Party \n",
    "sub_df = df[df['y'] == 'Party']\n",
    "sub_df\n",
    "\n",
    "p_of_party_given_x = (\n",
    "    len(sub_df) / len(df) *\n",
    "    len(sub_df[sub_df['deadline'] == x['deadline']]) / len(sub_df) *\n",
    "    len(sub_df[sub_df['party'] == x['party']]) / len(sub_df) *\n",
    "    len(sub_df[sub_df['lazy'] == x['lazy']]) / len(sub_df)\n",
    ")\n",
    "\n",
    "p_of_party_given_x"
   ]
  },
  {
   "cell_type": "markdown",
   "id": "d6166b4f",
   "metadata": {},
   "source": [
    "2. For the case where $y_i = Study$, we calculate $$ P(y_i=Study|\\boldsymbol{x}) = P(y_i=Study) * P(x.deadline|y_i=Study) * p(x.party|y_i=Study) * p(x.lazy|y_i=Study)$$"
   ]
  },
  {
   "cell_type": "code",
   "execution_count": 6,
   "id": "41ea2824",
   "metadata": {},
   "outputs": [
    {
     "data": {
      "text/plain": [
       "0.06666666666666667"
      ]
     },
     "execution_count": 6,
     "metadata": {},
     "output_type": "execute_result"
    }
   ],
   "source": [
    "# Start with the reduced sample space - only the examples where y is Study\n",
    "sub_df = df[df['y'] == 'Study']\n",
    "sub_df\n",
    "\n",
    "p_of_study_given_x = (\n",
    "    len(sub_df) / len(df) *\n",
    "    len(sub_df[sub_df['deadline'] == x['deadline']]) / len(sub_df) *\n",
    "    len(sub_df[sub_df['party'] == x['party']]) / len(sub_df) *\n",
    "    len(sub_df[sub_df['lazy'] == x['lazy']]) / len(sub_df)\n",
    ")\n",
    "\n",
    "p_of_study_given_x"
   ]
  },
  {
   "cell_type": "markdown",
   "id": "bd8a7b80",
   "metadata": {},
   "source": [
    "3. For the case where $y_i = TV$, we calculate $$ P(y_i=TV|\\boldsymbol{x}) = P(y_i=TV) * P(x.deadline|y_i=TV) * p(x.party|y_i=TV) * p(x.lazy|y_i=TV)$$"
   ]
  },
  {
   "cell_type": "code",
   "execution_count": 7,
   "id": "75329af2",
   "metadata": {},
   "outputs": [
    {
     "data": {
      "text/plain": [
       "0.0"
      ]
     },
     "execution_count": 7,
     "metadata": {},
     "output_type": "execute_result"
    }
   ],
   "source": [
    "# Start with the reduced sample space - only the examples where y is TV\n",
    "sub_df = df[df['y'] == 'TV']\n",
    "sub_df\n",
    "\n",
    "p_of_tv_given_x = (\n",
    "    len(sub_df) / len(df) *\n",
    "    len(sub_df[sub_df['deadline'] == x['deadline']]) / len(sub_df) *\n",
    "    len(sub_df[sub_df['party'] == x['party']]) / len(sub_df) *\n",
    "    len(sub_df[sub_df['lazy'] == x['lazy']]) / len(sub_df)\n",
    ")\n",
    "\n",
    "p_of_tv_given_x"
   ]
  },
  {
   "cell_type": "markdown",
   "id": "dd4bb708",
   "metadata": {},
   "source": [
    "4. And finally for the case where $y_i = Pub$, we need to calculate $$ P(y_i=Pub|\\boldsymbol{x}) = P(y_i=Pub) * P(x.deadline|y_i=Pub) * p(x.party|y_i=Pub) * p(x.lazy|y_i=Pub)$$"
   ]
  },
  {
   "cell_type": "code",
   "execution_count": 8,
   "id": "0817abc6",
   "metadata": {},
   "outputs": [
    {
     "data": {
      "text/plain": [
       "0.0"
      ]
     },
     "execution_count": 8,
     "metadata": {},
     "output_type": "execute_result"
    }
   ],
   "source": [
    "sub_df = df[df['y'] == 'Pub']\n",
    "sub_df\n",
    "\n",
    "p_of_pub_given_x = (\n",
    "    len(sub_df) / len(df) *\n",
    "    len(sub_df[sub_df['deadline'] == x['deadline']]) / len(sub_df) *\n",
    "    len(sub_df[sub_df['party'] == x['party']]) / len(sub_df) *\n",
    "    len(sub_df[sub_df['lazy'] == x['lazy']]) / len(sub_df)\n",
    ")\n",
    "\n",
    "p_of_pub_given_x"
   ]
  },
  {
   "cell_type": "markdown",
   "id": "21c2a432",
   "metadata": {},
   "source": [
    "Having all of these probabilities, we can put them together and return the class that corresponds to the largest conditional probability:\n",
    "\n",
    "$$ y = \\operatorname*{argmax}_{i}\\ \\ P(y_i | \\boldsymbol{x})$$"
   ]
  },
  {
   "cell_type": "code",
   "execution_count": 9,
   "id": "6714dbfc",
   "metadata": {},
   "outputs": [
    {
     "data": {
      "text/plain": [
       "Party    0.000000\n",
       "Study    0.066667\n",
       "TV       0.000000\n",
       "Pub      0.000000\n",
       "dtype: float64"
      ]
     },
     "execution_count": 9,
     "metadata": {},
     "output_type": "execute_result"
    }
   ],
   "source": [
    "probs = pd.Series({\n",
    "    \"Party\": p_of_party_given_x, \n",
    "    \"Study\": p_of_study_given_x, \n",
    "    \"TV\": p_of_tv_given_x, \n",
    "    \"Pub\": p_of_pub_given_x})\n",
    "probs"
   ]
  },
  {
   "cell_type": "markdown",
   "id": "27b4d33e",
   "metadata": {},
   "source": [
    "And here is finally the returned class (label)"
   ]
  },
  {
   "cell_type": "code",
   "execution_count": 10,
   "id": "27370f95",
   "metadata": {},
   "outputs": [
    {
     "data": {
      "text/plain": [
       "'Study'"
      ]
     },
     "execution_count": 10,
     "metadata": {},
     "output_type": "execute_result"
    }
   ],
   "source": [
    "probs.idxmax()"
   ]
  },
  {
   "cell_type": "markdown",
   "id": "4a9d260f",
   "metadata": {},
   "source": [
    "## Solution 2: Using an entropy-based decision tree classifier"
   ]
  },
  {
   "cell_type": "markdown",
   "id": "8877ab48",
   "metadata": {},
   "source": [
    "### Background: how decision trees are constructed\n",
    "\n",
    "The best way we know to build a classification decision tree is a greedy algorithm that builds the tree one feature (or node) at a time starting with the **best feature** at the moment. One way of finding that best feature is by quantifying the impurity of all the features and selecting the feature that yields the least impurity. Here we have two such measures: **entropy** and **gini index**. This example will use entropy. The challenge below will ask you to do the same using the **gini index**.\n",
    "\n",
    "Given a set of examples $D$ with classes(labels) $y_i$ where $i \\in \\{1, 2,\\dots,L\\}$ and $L$ is the number of unique classes, the entropy is defined as:\n",
    "\n",
    "$${\\displaystyle \\mathrm {H(D)}=-\\sum _{i=1}^{L}{p_{i}\\log p_{i}}}$$\n",
    "\n",
    "We use the entropy to calculate the **information gain** of a feature $F$ as follows:\n",
    "\n",
    "$${\\displaystyle \\operatorname {Gain(F,D)} =H(D) -\\sum_{f \\in values(F)}\\frac{|D_f|}{|D|}H(D_f)}$$\n",
    "\n",
    "where $D_f$ is the set of all examples in $D$ where feature $F$ has the value $f$. Let's create function to calculate the information gain.\n",
    "\n",
    "The best feature is the one with the maximum gain.\n",
    "\n",
    "Towards the construction of this tree, we will need the following two functions: one for calculating the entropy and another for protecting against the mathematical situation of $log(0)$."
   ]
  },
  {
   "cell_type": "code",
   "execution_count": 11,
   "id": "52320339",
   "metadata": {},
   "outputs": [],
   "source": [
    "def safe_log(p):\n",
    "    return log(p) if p > 0.0 else 0.0\n",
    "\n",
    "def entropy(df):\n",
    "    p_party = len(df[df['y'] == 'Party'])/len(df)\n",
    "    p_study = len(df[df['y'] == 'Study'])/len(df)\n",
    "    p_tv = len(df[df['y'] == 'TV'])/len(df)\n",
    "    p_pub = len(df[df['y'] == 'Pub'])/len(df)\n",
    "\n",
    "    return (\n",
    "        - p_party * safe_log(p_party)\n",
    "        - p_study * safe_log(p_study)\n",
    "        - p_tv * safe_log(p_tv)\n",
    "        - p_pub * safe_log(p_pub)\n",
    "    )"
   ]
  },
  {
   "cell_type": "markdown",
   "id": "ff51165d",
   "metadata": {},
   "source": [
    "### Answer\n",
    "\n",
    "We have three features to construct the tree with:"
   ]
  },
  {
   "cell_type": "code",
   "execution_count": 12,
   "id": "ea25015e",
   "metadata": {},
   "outputs": [
    {
     "data": {
      "text/plain": [
       "Index(['deadline', 'party', 'lazy'], dtype='object')"
      ]
     },
     "execution_count": 12,
     "metadata": {},
     "output_type": "execute_result"
    }
   ],
   "source": [
    "df.columns[:-1]"
   ]
  },
  {
   "cell_type": "markdown",
   "id": "015ccb75",
   "metadata": {},
   "source": [
    "We use these three features to build the tree. The question is which feature should we use as the root of this tree?\n",
    "Well, we calculate the **information gain** for each one of them and then pick the one with the most gain. \n",
    "\n",
    "First we calculate the entropy for the whole data"
   ]
  },
  {
   "cell_type": "code",
   "execution_count": 13,
   "id": "e321d881",
   "metadata": {},
   "outputs": [
    {
     "data": {
      "text/plain": [
       "1.1682824501765625"
      ]
     },
     "execution_count": 13,
     "metadata": {},
     "output_type": "execute_result"
    }
   ],
   "source": [
    "H_d = entropy(df)\n",
    "H_d"
   ]
  },
  {
   "cell_type": "markdown",
   "id": "a69a5a5b",
   "metadata": {},
   "source": [
    "Let's consider the deadline feature. Here is the gain we get from using it to split the data:\n",
    "\n",
    "$${\\displaystyle \\operatorname {Gain(deadline,D)} =H(D) -\\sum_{f \\in \\{Urgent, Near, None\\}}\\frac{|D_f|}{|D|}H(D_f)}$$\n",
    "\n",
    "where $D_f$ is the sub data where the deadline feature has the value $f$."
   ]
  },
  {
   "cell_type": "code",
   "execution_count": 14,
   "id": "0c3946ec",
   "metadata": {},
   "outputs": [
    {
     "data": {
      "text/plain": [
       "0.3704856408637076"
      ]
     },
     "execution_count": 14,
     "metadata": {},
     "output_type": "execute_result"
    }
   ],
   "source": [
    "ds = df\n",
    "D_urgent = ds[ds['deadline'] == 'Urgent']\n",
    "D_near = ds[ds['deadline'] == 'Near']\n",
    "D_none = ds[ds['deadline'] == 'None']\n",
    "\n",
    "gain_deadline = (\n",
    "    H_d  - (len(D_urgent) / len(ds)) * entropy(D_urgent) \n",
    "         - (len(D_near) / len(ds)) * entropy(D_near) \n",
    "         - (len(D_none) / len(ds)) * entropy(D_none))\n",
    "gain_deadline"
   ]
  },
  {
   "cell_type": "markdown",
   "id": "fbb58fdd",
   "metadata": {},
   "source": [
    "Then we consider the party feature; here is its gain:\n",
    "\n",
    "$${\\displaystyle \\operatorname {Gain(party,D)} =H(D) -\\sum_{f \\in \\{Yes, No\\}}\\frac{|D_f|}{|D|}H(D_f)}$$\n",
    "\n",
    "where $D_f$ is the sub data where the party feature has the value $f$."
   ]
  },
  {
   "cell_type": "code",
   "execution_count": 15,
   "id": "22652d0b",
   "metadata": {
    "scrolled": true
   },
   "outputs": [
    {
     "data": {
      "text/plain": [
       "0.6931471805599452"
      ]
     },
     "execution_count": 15,
     "metadata": {},
     "output_type": "execute_result"
    }
   ],
   "source": [
    "D_yes = ds[ds['party'] == 'Yes']\n",
    "D_no = ds[ds['party'] == 'No']\n",
    "\n",
    "gain_party = (\n",
    "    H_d  - (len(D_yes) / len(ds)) * entropy(D_yes) \n",
    "         - (len(D_no) / len(ds)) * entropy(D_no))\n",
    "gain_party"
   ]
  },
  {
   "cell_type": "markdown",
   "id": "c948c559",
   "metadata": {},
   "source": [
    "Finally we consider the lazy feature, and here is its gain:\n",
    "\n",
    "$${\\displaystyle \\operatorname {Gain(lazy,D)} =H(D) -\\sum_{f \\in \\{Yes, No\\}}\\frac{|D_f|}{|D|}H(D_f)}$$\n",
    "\n",
    "where $D_f$ is the sub data where the lazy feature has the value $f$."
   ]
  },
  {
   "cell_type": "code",
   "execution_count": 16,
   "id": "bba247f7",
   "metadata": {},
   "outputs": [
    {
     "data": {
      "text/plain": [
       "0.14555158301618448"
      ]
     },
     "execution_count": 16,
     "metadata": {},
     "output_type": "execute_result"
    }
   ],
   "source": [
    "D_yes = ds[ds['lazy'] == 'Yes']\n",
    "D_no = ds[ds['lazy'] == 'No']\n",
    "\n",
    "gain_lazy = (\n",
    "    H_d  - (len(D_yes) / len(ds)) * entropy(D_yes) \n",
    "         - (len(D_no) / len(ds)) * entropy(D_no))\n",
    "gain_lazy"
   ]
  },
  {
   "cell_type": "markdown",
   "id": "b3ee0fdf",
   "metadata": {},
   "source": [
    "Which means the best feature for the first node of the tree is"
   ]
  },
  {
   "cell_type": "code",
   "execution_count": 17,
   "id": "baa2e3c6",
   "metadata": {},
   "outputs": [
    {
     "data": {
      "text/plain": [
       "'party'"
      ]
     },
     "execution_count": 17,
     "metadata": {},
     "output_type": "execute_result"
    }
   ],
   "source": [
    "pd.Series({\n",
    "    \"deadline\": gain_deadline, \n",
    "    \"party\": gain_party, \n",
    "    \"lazy\": gain_lazy}).idxmax()"
   ]
  },
  {
   "cell_type": "markdown",
   "id": "8e4b6f7d",
   "metadata": {},
   "source": [
    "So we use the party feature as the root of the tree. Here I will used a simple python dictionary to code the tree. This feature has two unique values: Yes and No. That means that its feature will have two branches (children): one for Yes another for No."
   ]
  },
  {
   "cell_type": "code",
   "execution_count": 18,
   "id": "ded48935",
   "metadata": {},
   "outputs": [
    {
     "data": {
      "text/plain": [
       "{'party': {'Yes': None, 'No': None}}"
      ]
     },
     "execution_count": 18,
     "metadata": {},
     "output_type": "execute_result"
    }
   ],
   "source": [
    "tree = {'party': {'Yes': None, 'No': None}}\n",
    "tree"
   ]
  },
  {
   "cell_type": "markdown",
   "id": "1d8a90df",
   "metadata": {},
   "source": [
    "Now we check the Yes branch starting by reducing the data to the examples where party is Yes."
   ]
  },
  {
   "cell_type": "code",
   "execution_count": 19,
   "id": "be5d544e",
   "metadata": {},
   "outputs": [
    {
     "data": {
      "text/html": [
       "<div>\n",
       "<style scoped>\n",
       "    .dataframe tbody tr th:only-of-type {\n",
       "        vertical-align: middle;\n",
       "    }\n",
       "\n",
       "    .dataframe tbody tr th {\n",
       "        vertical-align: top;\n",
       "    }\n",
       "\n",
       "    .dataframe thead th {\n",
       "        text-align: right;\n",
       "    }\n",
       "</style>\n",
       "<table border=\"1\" class=\"dataframe\">\n",
       "  <thead>\n",
       "    <tr style=\"text-align: right;\">\n",
       "      <th></th>\n",
       "      <th>deadline</th>\n",
       "      <th>party</th>\n",
       "      <th>lazy</th>\n",
       "      <th>y</th>\n",
       "    </tr>\n",
       "  </thead>\n",
       "  <tbody>\n",
       "    <tr>\n",
       "      <th>0</th>\n",
       "      <td>Urgent</td>\n",
       "      <td>Yes</td>\n",
       "      <td>Yes</td>\n",
       "      <td>Party</td>\n",
       "    </tr>\n",
       "    <tr>\n",
       "      <th>2</th>\n",
       "      <td>Near</td>\n",
       "      <td>Yes</td>\n",
       "      <td>Yes</td>\n",
       "      <td>Party</td>\n",
       "    </tr>\n",
       "    <tr>\n",
       "      <th>3</th>\n",
       "      <td>None</td>\n",
       "      <td>Yes</td>\n",
       "      <td>No</td>\n",
       "      <td>Party</td>\n",
       "    </tr>\n",
       "    <tr>\n",
       "      <th>5</th>\n",
       "      <td>None</td>\n",
       "      <td>Yes</td>\n",
       "      <td>No</td>\n",
       "      <td>Party</td>\n",
       "    </tr>\n",
       "    <tr>\n",
       "      <th>8</th>\n",
       "      <td>Near</td>\n",
       "      <td>Yes</td>\n",
       "      <td>Yes</td>\n",
       "      <td>Party</td>\n",
       "    </tr>\n",
       "  </tbody>\n",
       "</table>\n",
       "</div>"
      ],
      "text/plain": [
       "  deadline party lazy      y\n",
       "0   Urgent   Yes  Yes  Party\n",
       "2     Near   Yes  Yes  Party\n",
       "3     None   Yes   No  Party\n",
       "5     None   Yes   No  Party\n",
       "8     Near   Yes  Yes  Party"
      ]
     },
     "execution_count": 19,
     "metadata": {},
     "output_type": "execute_result"
    }
   ],
   "source": [
    "ds = df[df['party'] == 'Yes']\n",
    "ds"
   ]
  },
  {
   "cell_type": "markdown",
   "id": "c98c038a",
   "metadata": {},
   "source": [
    "This is a pure node (only one single output class), so the label Party should be a leaf."
   ]
  },
  {
   "cell_type": "code",
   "execution_count": 20,
   "id": "5c7d0d9d",
   "metadata": {},
   "outputs": [
    {
     "data": {
      "text/plain": [
       "{'party': {'Yes': 'Party', 'No': None}}"
      ]
     },
     "execution_count": 20,
     "metadata": {},
     "output_type": "execute_result"
    }
   ],
   "source": [
    "tree['party']['Yes'] = \"Party\"\n",
    "tree"
   ]
  },
  {
   "cell_type": "markdown",
   "id": "bd08ac83",
   "metadata": {},
   "source": [
    "We then check the No branch:"
   ]
  },
  {
   "cell_type": "code",
   "execution_count": 21,
   "id": "32342228",
   "metadata": {},
   "outputs": [
    {
     "data": {
      "text/html": [
       "<div>\n",
       "<style scoped>\n",
       "    .dataframe tbody tr th:only-of-type {\n",
       "        vertical-align: middle;\n",
       "    }\n",
       "\n",
       "    .dataframe tbody tr th {\n",
       "        vertical-align: top;\n",
       "    }\n",
       "\n",
       "    .dataframe thead th {\n",
       "        text-align: right;\n",
       "    }\n",
       "</style>\n",
       "<table border=\"1\" class=\"dataframe\">\n",
       "  <thead>\n",
       "    <tr style=\"text-align: right;\">\n",
       "      <th></th>\n",
       "      <th>deadline</th>\n",
       "      <th>party</th>\n",
       "      <th>lazy</th>\n",
       "      <th>y</th>\n",
       "    </tr>\n",
       "  </thead>\n",
       "  <tbody>\n",
       "    <tr>\n",
       "      <th>1</th>\n",
       "      <td>Urgent</td>\n",
       "      <td>No</td>\n",
       "      <td>Yes</td>\n",
       "      <td>Study</td>\n",
       "    </tr>\n",
       "    <tr>\n",
       "      <th>4</th>\n",
       "      <td>None</td>\n",
       "      <td>No</td>\n",
       "      <td>Yes</td>\n",
       "      <td>Pub</td>\n",
       "    </tr>\n",
       "    <tr>\n",
       "      <th>6</th>\n",
       "      <td>Near</td>\n",
       "      <td>No</td>\n",
       "      <td>No</td>\n",
       "      <td>Study</td>\n",
       "    </tr>\n",
       "    <tr>\n",
       "      <th>7</th>\n",
       "      <td>Near</td>\n",
       "      <td>No</td>\n",
       "      <td>Yes</td>\n",
       "      <td>TV</td>\n",
       "    </tr>\n",
       "    <tr>\n",
       "      <th>9</th>\n",
       "      <td>Urgent</td>\n",
       "      <td>No</td>\n",
       "      <td>No</td>\n",
       "      <td>Study</td>\n",
       "    </tr>\n",
       "  </tbody>\n",
       "</table>\n",
       "</div>"
      ],
      "text/plain": [
       "  deadline party lazy      y\n",
       "1   Urgent    No  Yes  Study\n",
       "4     None    No  Yes    Pub\n",
       "6     Near    No   No  Study\n",
       "7     Near    No  Yes     TV\n",
       "9   Urgent    No   No  Study"
      ]
     },
     "execution_count": 21,
     "metadata": {},
     "output_type": "execute_result"
    }
   ],
   "source": [
    "ds = df[df['party'] == 'No']\n",
    "ds"
   ]
  },
  {
   "cell_type": "markdown",
   "id": "d52d9cfe",
   "metadata": {},
   "source": [
    "which is not pure. We have two remaining features to consider: deadline and lazy. Here is the gain for deadline"
   ]
  },
  {
   "cell_type": "code",
   "execution_count": 22,
   "id": "7fe38cc1",
   "metadata": {},
   "outputs": [
    {
     "data": {
      "text/plain": [
       "0.8910235779525844"
      ]
     },
     "execution_count": 22,
     "metadata": {},
     "output_type": "execute_result"
    }
   ],
   "source": [
    "D_urgent = ds[ds['deadline'] == 'Urgent']\n",
    "D_near = ds[ds['deadline'] == 'Near']\n",
    "D_none = ds[ds['deadline'] == 'None']\n",
    "\n",
    "gain_deadline = (\n",
    "    H_d  - (len(D_urgent) / len(ds)) * entropy(D_urgent) \n",
    "         - (len(D_near) / len(ds)) * entropy(D_near) \n",
    "         - (len(D_none) / len(ds)) * entropy(D_none))\n",
    "gain_deadline"
   ]
  },
  {
   "cell_type": "markdown",
   "id": "5ecba944",
   "metadata": {},
   "source": [
    "and here it is for lazy"
   ]
  },
  {
   "cell_type": "code",
   "execution_count": 23,
   "id": "83edde21",
   "metadata": {},
   "outputs": [
    {
     "data": {
      "text/plain": [
       "0.5091150769756968"
      ]
     },
     "execution_count": 23,
     "metadata": {},
     "output_type": "execute_result"
    }
   ],
   "source": [
    "D_yes = ds[ds['lazy'] == 'Yes']\n",
    "D_no = ds[ds['lazy'] == 'No']\n",
    "\n",
    "gain_lazy = (\n",
    "    H_d  - (len(D_yes) / len(ds)) * entropy(D_yes) \n",
    "         - (len(D_no) / len(ds)) * entropy(D_no))\n",
    "gain_lazy"
   ]
  },
  {
   "cell_type": "markdown",
   "id": "ed602d0a",
   "metadata": {},
   "source": [
    "resulting in the best feature:"
   ]
  },
  {
   "cell_type": "code",
   "execution_count": 24,
   "id": "3f6425a6",
   "metadata": {},
   "outputs": [
    {
     "data": {
      "text/plain": [
       "'deadline'"
      ]
     },
     "execution_count": 24,
     "metadata": {},
     "output_type": "execute_result"
    }
   ],
   "source": [
    "pd.Series({\n",
    "    \"deadline\": gain_deadline, \n",
    "    \"lazy\": gain_lazy}).idxmax()"
   ]
  },
  {
   "cell_type": "markdown",
   "id": "9cc1029a",
   "metadata": {},
   "source": [
    "Let's update tree with the new deadline node which has three possible values: Urgent,Near, and None. That again means three branches from this node."
   ]
  },
  {
   "cell_type": "code",
   "execution_count": 25,
   "id": "9ef5723f",
   "metadata": {},
   "outputs": [
    {
     "data": {
      "text/plain": [
       "{'party': {'Yes': 'Party',\n",
       "  'No': {'deadline': {'Urgent': None, 'Near': None, 'None': None}}}}"
      ]
     },
     "execution_count": 25,
     "metadata": {},
     "output_type": "execute_result"
    }
   ],
   "source": [
    "tree['party']['No'] = {'deadline': {'Urgent': None, 'Near': None, 'None': None}}\n",
    "tree"
   ]
  },
  {
   "cell_type": "markdown",
   "id": "b09955fc",
   "metadata": {},
   "source": [
    "We check the Urgent branch first. Notice that all of this is under the branch where party is No."
   ]
  },
  {
   "cell_type": "code",
   "execution_count": 26,
   "id": "a21616fb",
   "metadata": {},
   "outputs": [
    {
     "data": {
      "text/html": [
       "<div>\n",
       "<style scoped>\n",
       "    .dataframe tbody tr th:only-of-type {\n",
       "        vertical-align: middle;\n",
       "    }\n",
       "\n",
       "    .dataframe tbody tr th {\n",
       "        vertical-align: top;\n",
       "    }\n",
       "\n",
       "    .dataframe thead th {\n",
       "        text-align: right;\n",
       "    }\n",
       "</style>\n",
       "<table border=\"1\" class=\"dataframe\">\n",
       "  <thead>\n",
       "    <tr style=\"text-align: right;\">\n",
       "      <th></th>\n",
       "      <th>deadline</th>\n",
       "      <th>party</th>\n",
       "      <th>lazy</th>\n",
       "      <th>y</th>\n",
       "    </tr>\n",
       "  </thead>\n",
       "  <tbody>\n",
       "    <tr>\n",
       "      <th>1</th>\n",
       "      <td>Urgent</td>\n",
       "      <td>No</td>\n",
       "      <td>Yes</td>\n",
       "      <td>Study</td>\n",
       "    </tr>\n",
       "    <tr>\n",
       "      <th>9</th>\n",
       "      <td>Urgent</td>\n",
       "      <td>No</td>\n",
       "      <td>No</td>\n",
       "      <td>Study</td>\n",
       "    </tr>\n",
       "  </tbody>\n",
       "</table>\n",
       "</div>"
      ],
      "text/plain": [
       "  deadline party lazy      y\n",
       "1   Urgent    No  Yes  Study\n",
       "9   Urgent    No   No  Study"
      ]
     },
     "execution_count": 26,
     "metadata": {},
     "output_type": "execute_result"
    }
   ],
   "source": [
    "ds = df[df['party'] == 'No']\n",
    "ds = ds[ds['deadline'] == 'Urgent']\n",
    "ds"
   ]
  },
  {
   "cell_type": "markdown",
   "id": "66dfa892",
   "metadata": {},
   "source": [
    "which is pure. So the Urgent branch lead to Study leaf."
   ]
  },
  {
   "cell_type": "code",
   "execution_count": 27,
   "id": "74c83fa3",
   "metadata": {},
   "outputs": [
    {
     "data": {
      "text/plain": [
       "{'party': {'Yes': 'Party',\n",
       "  'No': {'deadline': {'Urgent': 'Study', 'Near': None, 'None': None}}}}"
      ]
     },
     "execution_count": 27,
     "metadata": {},
     "output_type": "execute_result"
    }
   ],
   "source": [
    "tree['party']['No']['deadline']['Urgent'] = 'Study'\n",
    "tree"
   ]
  },
  {
   "cell_type": "markdown",
   "id": "7dce4f90",
   "metadata": {},
   "source": [
    "Let's check the None deadline branch:"
   ]
  },
  {
   "cell_type": "code",
   "execution_count": 28,
   "id": "0589f656",
   "metadata": {},
   "outputs": [
    {
     "data": {
      "text/html": [
       "<div>\n",
       "<style scoped>\n",
       "    .dataframe tbody tr th:only-of-type {\n",
       "        vertical-align: middle;\n",
       "    }\n",
       "\n",
       "    .dataframe tbody tr th {\n",
       "        vertical-align: top;\n",
       "    }\n",
       "\n",
       "    .dataframe thead th {\n",
       "        text-align: right;\n",
       "    }\n",
       "</style>\n",
       "<table border=\"1\" class=\"dataframe\">\n",
       "  <thead>\n",
       "    <tr style=\"text-align: right;\">\n",
       "      <th></th>\n",
       "      <th>deadline</th>\n",
       "      <th>party</th>\n",
       "      <th>lazy</th>\n",
       "      <th>y</th>\n",
       "    </tr>\n",
       "  </thead>\n",
       "  <tbody>\n",
       "    <tr>\n",
       "      <th>4</th>\n",
       "      <td>None</td>\n",
       "      <td>No</td>\n",
       "      <td>Yes</td>\n",
       "      <td>Pub</td>\n",
       "    </tr>\n",
       "  </tbody>\n",
       "</table>\n",
       "</div>"
      ],
      "text/plain": [
       "  deadline party lazy    y\n",
       "4     None    No  Yes  Pub"
      ]
     },
     "execution_count": 28,
     "metadata": {},
     "output_type": "execute_result"
    }
   ],
   "source": [
    "ds = df[df['party'] == 'No']\n",
    "ds = ds[ds['deadline'] == 'None']\n",
    "ds"
   ]
  },
  {
   "cell_type": "markdown",
   "id": "a665fd97",
   "metadata": {},
   "source": [
    "which is also pure. So the None branch leads to a Pub leaf."
   ]
  },
  {
   "cell_type": "code",
   "execution_count": 29,
   "id": "e5303a6f",
   "metadata": {},
   "outputs": [
    {
     "data": {
      "text/plain": [
       "{'party': {'Yes': 'Party',\n",
       "  'No': {'deadline': {'Urgent': 'Study', 'Near': None, 'None': 'Pub'}}}}"
      ]
     },
     "execution_count": 29,
     "metadata": {},
     "output_type": "execute_result"
    }
   ],
   "source": [
    "tree['party']['No']['deadline']['None'] = 'Pub'\n",
    "tree"
   ]
  },
  {
   "cell_type": "markdown",
   "id": "b954fcc5",
   "metadata": {},
   "source": [
    "Finally we check the Near branch:"
   ]
  },
  {
   "cell_type": "code",
   "execution_count": 30,
   "id": "c3ee5c0e",
   "metadata": {},
   "outputs": [
    {
     "data": {
      "text/html": [
       "<div>\n",
       "<style scoped>\n",
       "    .dataframe tbody tr th:only-of-type {\n",
       "        vertical-align: middle;\n",
       "    }\n",
       "\n",
       "    .dataframe tbody tr th {\n",
       "        vertical-align: top;\n",
       "    }\n",
       "\n",
       "    .dataframe thead th {\n",
       "        text-align: right;\n",
       "    }\n",
       "</style>\n",
       "<table border=\"1\" class=\"dataframe\">\n",
       "  <thead>\n",
       "    <tr style=\"text-align: right;\">\n",
       "      <th></th>\n",
       "      <th>deadline</th>\n",
       "      <th>party</th>\n",
       "      <th>lazy</th>\n",
       "      <th>y</th>\n",
       "    </tr>\n",
       "  </thead>\n",
       "  <tbody>\n",
       "    <tr>\n",
       "      <th>6</th>\n",
       "      <td>Near</td>\n",
       "      <td>No</td>\n",
       "      <td>No</td>\n",
       "      <td>Study</td>\n",
       "    </tr>\n",
       "    <tr>\n",
       "      <th>7</th>\n",
       "      <td>Near</td>\n",
       "      <td>No</td>\n",
       "      <td>Yes</td>\n",
       "      <td>TV</td>\n",
       "    </tr>\n",
       "  </tbody>\n",
       "</table>\n",
       "</div>"
      ],
      "text/plain": [
       "  deadline party lazy      y\n",
       "6     Near    No   No  Study\n",
       "7     Near    No  Yes     TV"
      ]
     },
     "execution_count": 30,
     "metadata": {},
     "output_type": "execute_result"
    }
   ],
   "source": [
    "ds = df[df['party'] == 'No']\n",
    "ds = ds[ds['deadline'] == 'Near']\n",
    "ds"
   ]
  },
  {
   "cell_type": "markdown",
   "id": "ad55d9b9",
   "metadata": {},
   "source": [
    "Not pure. We have one more feature to consider: lazy. No need to calculate gain here; only one feature. Lazy has two branches: Yes and No."
   ]
  },
  {
   "cell_type": "code",
   "execution_count": 31,
   "id": "f3c7d3ac",
   "metadata": {},
   "outputs": [
    {
     "data": {
      "text/plain": [
       "{'party': {'Yes': 'Party',\n",
       "  'No': {'deadline': {'Urgent': 'Study',\n",
       "    'Near': {'lazy': {'Yes': None, 'No': None}},\n",
       "    'None': 'Pub'}}}}"
      ]
     },
     "execution_count": 31,
     "metadata": {},
     "output_type": "execute_result"
    }
   ],
   "source": [
    "tree['party']['No']['deadline']['Near'] = {'lazy': {'Yes': None, 'No': None}}\n",
    "tree"
   ]
  },
  {
   "cell_type": "markdown",
   "id": "fb272187",
   "metadata": {},
   "source": [
    "Here is the Yes lazy branch:"
   ]
  },
  {
   "cell_type": "code",
   "execution_count": 32,
   "id": "7f155148",
   "metadata": {},
   "outputs": [
    {
     "data": {
      "text/html": [
       "<div>\n",
       "<style scoped>\n",
       "    .dataframe tbody tr th:only-of-type {\n",
       "        vertical-align: middle;\n",
       "    }\n",
       "\n",
       "    .dataframe tbody tr th {\n",
       "        vertical-align: top;\n",
       "    }\n",
       "\n",
       "    .dataframe thead th {\n",
       "        text-align: right;\n",
       "    }\n",
       "</style>\n",
       "<table border=\"1\" class=\"dataframe\">\n",
       "  <thead>\n",
       "    <tr style=\"text-align: right;\">\n",
       "      <th></th>\n",
       "      <th>deadline</th>\n",
       "      <th>party</th>\n",
       "      <th>lazy</th>\n",
       "      <th>y</th>\n",
       "    </tr>\n",
       "  </thead>\n",
       "  <tbody>\n",
       "    <tr>\n",
       "      <th>7</th>\n",
       "      <td>Near</td>\n",
       "      <td>No</td>\n",
       "      <td>Yes</td>\n",
       "      <td>TV</td>\n",
       "    </tr>\n",
       "  </tbody>\n",
       "</table>\n",
       "</div>"
      ],
      "text/plain": [
       "  deadline party lazy   y\n",
       "7     Near    No  Yes  TV"
      ]
     },
     "execution_count": 32,
     "metadata": {},
     "output_type": "execute_result"
    }
   ],
   "source": [
    "ds = df[df['party'] == 'No']\n",
    "ds = ds[ds['deadline'] == 'Near']\n",
    "ds = ds[ds['lazy'] == 'Yes']\n",
    "ds"
   ]
  },
  {
   "cell_type": "markdown",
   "id": "04f76827",
   "metadata": {},
   "source": [
    "which is pure and leads to a TV leaf."
   ]
  },
  {
   "cell_type": "code",
   "execution_count": 33,
   "id": "c2c7d8bc",
   "metadata": {},
   "outputs": [
    {
     "data": {
      "text/plain": [
       "{'party': {'Yes': 'Party',\n",
       "  'No': {'deadline': {'Urgent': 'Study',\n",
       "    'Near': {'lazy': {'Yes': 'TV', 'No': None}},\n",
       "    'None': 'Pub'}}}}"
      ]
     },
     "execution_count": 33,
     "metadata": {},
     "output_type": "execute_result"
    }
   ],
   "source": [
    "tree['party']['No']['deadline']['Near']['lazy']['Yes'] = 'TV'\n",
    "tree"
   ]
  },
  {
   "cell_type": "markdown",
   "id": "3c60c3bf",
   "metadata": {},
   "source": [
    "Finally here is the No lazy branch:"
   ]
  },
  {
   "cell_type": "code",
   "execution_count": 34,
   "id": "1c3006be",
   "metadata": {},
   "outputs": [
    {
     "data": {
      "text/html": [
       "<div>\n",
       "<style scoped>\n",
       "    .dataframe tbody tr th:only-of-type {\n",
       "        vertical-align: middle;\n",
       "    }\n",
       "\n",
       "    .dataframe tbody tr th {\n",
       "        vertical-align: top;\n",
       "    }\n",
       "\n",
       "    .dataframe thead th {\n",
       "        text-align: right;\n",
       "    }\n",
       "</style>\n",
       "<table border=\"1\" class=\"dataframe\">\n",
       "  <thead>\n",
       "    <tr style=\"text-align: right;\">\n",
       "      <th></th>\n",
       "      <th>deadline</th>\n",
       "      <th>party</th>\n",
       "      <th>lazy</th>\n",
       "      <th>y</th>\n",
       "    </tr>\n",
       "  </thead>\n",
       "  <tbody>\n",
       "    <tr>\n",
       "      <th>6</th>\n",
       "      <td>Near</td>\n",
       "      <td>No</td>\n",
       "      <td>No</td>\n",
       "      <td>Study</td>\n",
       "    </tr>\n",
       "  </tbody>\n",
       "</table>\n",
       "</div>"
      ],
      "text/plain": [
       "  deadline party lazy      y\n",
       "6     Near    No   No  Study"
      ]
     },
     "execution_count": 34,
     "metadata": {},
     "output_type": "execute_result"
    }
   ],
   "source": [
    "ds = df[df['party'] == 'No']\n",
    "ds = ds[ds['deadline'] == 'Near']\n",
    "ds = ds[ds['lazy'] == 'No']\n",
    "ds"
   ]
  },
  {
   "cell_type": "markdown",
   "id": "0b710158",
   "metadata": {
    "scrolled": true
   },
   "source": [
    "which is pure and leads to a Study leaf."
   ]
  },
  {
   "cell_type": "code",
   "execution_count": 35,
   "id": "b3ed71ba",
   "metadata": {},
   "outputs": [
    {
     "data": {
      "text/plain": [
       "{'party': {'Yes': 'Party',\n",
       "  'No': {'deadline': {'Urgent': 'Study',\n",
       "    'Near': {'lazy': {'Yes': 'TV', 'No': 'Study'}},\n",
       "    'None': 'Pub'}}}}"
      ]
     },
     "execution_count": 35,
     "metadata": {},
     "output_type": "execute_result"
    }
   ],
   "source": [
    "tree['party']['No']['deadline']['Near']['lazy']['No'] = 'Study'\n",
    "tree"
   ]
  },
  {
   "cell_type": "markdown",
   "id": "a3cbdf96",
   "metadata": {},
   "source": [
    "Here is the full decision tree in a nicer format:\n",
    "\n",
    "```\n",
    "            (party)\n",
    "            /     \\\n",
    "           /       \\ No\n",
    "      [Party]       \\\n",
    "                 (deadline)\n",
    "                /      |   \\\n",
    "        urgent /  None |    \\ Near\n",
    "              /        |     \\\n",
    "             /         |      \\\n",
    "         [Study]     [Pub]     \\\n",
    "                                \\\n",
    "                              (lazy)\n",
    "                             /      \\\n",
    "                        Yes /        \\ No\n",
    "                           /          \\\n",
    "                         [TV]      [Study]\n",
    "```\n",
    "\n",
    "We obtain the solution by using the above example $x$ to traverse this tree and report the class(or label) of the leaf node we arrive at."
   ]
  },
  {
   "cell_type": "code",
   "execution_count": 36,
   "id": "164edd41",
   "metadata": {},
   "outputs": [
    {
     "name": "stdout",
     "output_type": "stream",
     "text": [
      "x:  {'deadline': 'Near', 'party': 'No', 'lazy': 'No'}\n"
     ]
    },
    {
     "data": {
      "text/plain": [
       "'Study'"
      ]
     },
     "execution_count": 36,
     "metadata": {},
     "output_type": "execute_result"
    }
   ],
   "source": [
    "# Here is x again\n",
    "print('x: ', x)\n",
    "\n",
    "tree['party'][x['party']]['deadline'][x['deadline']]['lazy'][x['lazy']]"
   ]
  },
  {
   "cell_type": "markdown",
   "id": "84d6a1f1",
   "metadata": {},
   "source": [
    "Is this the same as the one returned by the naive Bayes classifier?\n",
    "\n",
    "## CHALLENGE\n",
    "\n",
    "**PART 1**: Change the example $x$ at the top of this note book to the example we looked at in class: (Near, No, Yes), and re-run the solutions.\n",
    "\n",
    "**PART 2**: Re-implement the decision tree solution above using the **gini index**. Did you get the same tree as the one obtained by using entropy?"
   ]
  },
  {
   "cell_type": "code",
   "execution_count": 37,
   "id": "ce85a7a3",
   "metadata": {},
   "outputs": [],
   "source": [
    "# TODO"
   ]
  }
 ],
 "metadata": {
  "kernelspec": {
   "display_name": "Python 3 (ipykernel)",
   "language": "python",
   "name": "python3"
  },
  "language_info": {
   "codemirror_mode": {
    "name": "ipython",
    "version": 3
   },
   "file_extension": ".py",
   "mimetype": "text/x-python",
   "name": "python",
   "nbconvert_exporter": "python",
   "pygments_lexer": "ipython3",
   "version": "3.7.13"
  }
 },
 "nbformat": 4,
 "nbformat_minor": 5
}
